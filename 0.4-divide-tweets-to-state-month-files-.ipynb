{
 "cells": [
  {
   "cell_type": "markdown",
   "id": "4f6d940e-dcca-473e-9eb0-c0c271a65aed",
   "metadata": {
    "tags": []
   },
   "source": [
    "# Divide the tweets to state-month files"
   ]
  },
  {
   "cell_type": "code",
   "execution_count": 1,
   "id": "eacd3edd-e5d8-4e29-9891-64cbc66304a1",
   "metadata": {},
   "outputs": [
    {
     "name": "stdout",
     "output_type": "stream",
     "text": [
      "INFO: Pandarallel will run on 60 workers.\n",
      "INFO: Pandarallel will use Memory file system to transfer data between the main process and workers.\n",
      "2015\n",
      "reading..\n"
     ]
    },
    {
     "data": {
      "application/vnd.jupyter.widget-view+json": {
       "model_id": "9eefd4081502496b91be89b2099f8dee",
       "version_major": 2,
       "version_minor": 0
      },
      "text/plain": [
       "VBox(children=(HBox(children=(IntProgress(value=0, description='0.00%', max=13), Label(value='0 / 13'))), HBox…"
      ]
     },
     "metadata": {},
     "output_type": "display_data"
    },
    {
     "name": "stdout",
     "output_type": "stream",
     "text": [
      "writing..\n",
      "done!\n"
     ]
    },
    {
     "data": {
      "application/vnd.jupyter.widget-view+json": {
       "model_id": "78d770d2c5cd4c0284a190cbfac1f2d0",
       "version_major": 2,
       "version_minor": 0
      },
      "text/plain": [
       "  0%|          | 0/51 [00:00<?, ?it/s]"
      ]
     },
     "metadata": {},
     "output_type": "display_data"
    },
    {
     "name": "stdout",
     "output_type": "stream",
     "text": [
      "CPU times: user 1h 58min 44s, sys: 2min 22s, total: 2h 1min 7s\n",
      "Wall time: 2h 2min 30s\n"
     ]
    }
   ],
   "source": [
    "%%time\n",
    "import pandas as pd\n",
    "import os\n",
    "from tqdm.notebook import tqdm,trange\n",
    "import geopandas as gpd\n",
    "from pandarallel import pandarallel\n",
    "import us\n",
    "# import tqdm\n",
    "pandarallel.initialize(progress_bar=True, nb_workers= 60)\n",
    "tqdm.pandas()\n",
    "\n",
    "def get_data(row):\n",
    "    file_name = row[\"in_file_name\"]\n",
    "    try:\n",
    "        data = pd.read_csv(input_path+ file_name, delimiter = '\\t',dtype={\"fips\":str,\"GPS\":str})\n",
    "        data['tweet_date'] = pd.to_datetime(data['tweet_date'], errors='coerce')\n",
    "        return data\n",
    "    except Exception as e:\n",
    "        print(e)\n",
    "        return None\n",
    "    \n",
    "def split_ms(input_path,output_path,year):\n",
    "    print(\"reading..\")\n",
    "    pd_inputFiles = pd.DataFrame(os.listdir(input_path),columns=[\"in_file_name\"])\n",
    "    pd_inputFiles[\"month\"] = pd_inputFiles[\"in_file_name\"].map(lambda x: list(map(int,x.split(\".\")[0].split(\"_\")))[1])\n",
    "    # pd_inputFiles = pd_inputFiles[pd_inputFiles[\"month\"] ==1]\n",
    "    pd_inputFiles[\"data\"] =  pd_inputFiles.parallel_apply(get_data,axis=1)\n",
    "    # pd_inputFiles[\"data\"] =  pd_inputFiles.progress_apply(get_data,axis=1)\n",
    "    \n",
    "    print(\"writing..\")\n",
    "    for k,data in pd_inputFiles.groupby(\"month\"):\n",
    "        # if k !=1:\n",
    "        #     continue\n",
    "        if data[\"data\"] is None:\n",
    "            continue\n",
    "        if data[\"data\"].values.shape[0] == 0:\n",
    "            print(\"&&\")\n",
    "            continue\n",
    "        data_ = pd.concat(data[\"data\"].values,ignore_index=True)\n",
    "        for i,item in data_.groupby(\"state\"):\n",
    "            # if i != \"TX\":\n",
    "            #     continue\n",
    "            fine_path = output_path + \"%d_%d_%s.parquet\"%(year,k,i)\n",
    "            # if os.path.exists(fine_path):\n",
    "            #     print(\"##\")\n",
    "            #     continue\n",
    "            try:\n",
    "                item = item.astype({\"user_location\":str})\n",
    "                item.to_parquet(fine_path)\n",
    "            except Exception as e:\n",
    "                print(e)\n",
    "\n",
    "# df.apply(func)\n",
    "def save_tweets(x,alread_set):\n",
    "    file_name = x.file_name\n",
    "\n",
    "    s = us.states.lookup(file_name.split(\"_\")[2])\n",
    "    # print(s.abbr)\n",
    "    # if s.abbr == \"TX\":\n",
    "    #     return 0\n",
    "    \n",
    "    cenus_shp = gpd.read_file(path + file_name)\n",
    "    cenus_shp = cenus_shp.to_crs(\"EPSG:4326\")\n",
    "    \n",
    "    for i in range(1,13):\n",
    "        out_filename = \"%d_%d_%s.csv\"%(year,i,s.abbr)\n",
    "        if out_filename in alread_set:\n",
    "            continue\n",
    "        \n",
    "\n",
    "        f = output_path + \"%d_%d_%s.parquet\"%(year,i,s.abbr)\n",
    "        # print(f)\n",
    "        \n",
    "        # cenus_shp = gpd.read_file(path + file_name)\n",
    "        # cenus_shp = cenus_shp.to_crs(\"EPSG:4326\")\n",
    "        try:\n",
    "            df = pd.read_parquet(f)\n",
    "        except Exception as e:\n",
    "            # print(e,f)\n",
    "            continue\n",
    "        df = gpd.GeoDataFrame(df, geometry= gpd.points_from_xy(df.longitude,df.latitude),crs=\"EPSG:4326\")\n",
    "        join_inner_df = df.sjoin(cenus_shp, how=\"inner\")\n",
    "        join_inner_df= join_inner_df[['message_id', 'tweet_date', 'tweet_text', 'tweet_lang', 'place',\n",
    "               'user_id', 'user_name', 'user_location', 'followers', 'friends',\n",
    "               'latitude', 'longitude', 'GPS', 'spatialerror', 'fips', 'county',\n",
    "               'state',  'GEOID20']]\n",
    "        join_inner_df.to_csv(outpath + out_filename,encoding = \"utf-8-sig\")\n",
    "        \n",
    "        # break\n",
    "    return 1\n",
    "\n",
    "            \n",
    "path = \"data/census_data/\"\n",
    "year = 2015\n",
    "print(year)\n",
    "input_path = \"RyanProject/tweets/%d_new/\"%year\n",
    "output_path = 'RyanProject/tweet_states/%d_new/parquet/'%year\n",
    "outpath = 'RyanProject/results/census/%d_new/'%year\n",
    "\n",
    "os.makedirs(output_path,exist_ok=True)\n",
    "os.makedirs(outpath,exist_ok=True)\n",
    "\n",
    "split_ms(input_path,output_path,year)       \n",
    "\n",
    "print(\"done!\")\n",
    "alread_set = set()\n",
    "# alread_set =  set(os.listdir(outpath))\n",
    "states_list = pd.Series(os.listdir(path),name=\"file_name\").to_frame()\n",
    "# states_list = states_list[states_list[\"file_name\"]==\"tl_2021_48_tabblock20.zip\"]\n",
    "temp=states_list.progress_apply(lambda x:save_tweets(x,alread_set),axis=1)\n",
    "# temp=states_list.parallel_apply(lambda x:save_tweets(x,alread_set),axis=1)\n"
   ]
  },
  {
   "cell_type": "markdown",
   "id": "f3f53231-1585-4b74-8784-717036c5bd30",
   "metadata": {},
   "source": [
    "Chwck if they include all the states"
   ]
  },
  {
   "cell_type": "code",
   "execution_count": 8,
   "id": "f9701ab4-2175-4120-a2db-58803f42ee73",
   "metadata": {},
   "outputs": [],
   "source": [
    "import os\n",
    "all_states=set()\n",
    "for file_name in os.listdir(outpath):\n",
    "    # print(file_name)\n",
    "    state = file_name.split(\"_\")[-1].strip(\".csv\")\n",
    "    # print(states)\n",
    "    all_states.add(state)\n",
    "    # break\n",
    "# all_states"
   ]
  }
 ],
 "metadata": {
  "kernelspec": {
   "display_name": "Python [conda env:root] *",
   "language": "python",
   "name": "conda-root-py"
  },
  "language_info": {
   "codemirror_mode": {
    "name": "ipython",
    "version": 3
   },
   "file_extension": ".py",
   "mimetype": "text/x-python",
   "name": "python",
   "nbconvert_exporter": "python",
   "pygments_lexer": "ipython3",
   "version": "3.8.8"
  },
  "widgets": {
   "application/vnd.jupyter.widget-state+json": {
    "state": {
     "0042553a59734ae5872ce7b505a40500": {
      "model_module": "@jupyter-widgets/base",
      "model_module_version": "1.2.0",
      "model_name": "LayoutModel",
      "state": {}
     },
     "007403c12149474180703bad6dbaf14b": {
      "model_module": "@jupyter-widgets/controls",
      "model_module_version": "1.5.0",
      "model_name": "DescriptionStyleModel",
      "state": {
       "description_width": ""
      }
     },
     "02bded1c1b28409b82c5ae166a209175": {
      "model_module": "@jupyter-widgets/base",
      "model_module_version": "1.2.0",
      "model_name": "LayoutModel",
      "state": {}
     },
     "031bb503acce49a699785255dbec3cf9": {
      "model_module": "@jupyter-widgets/controls",
      "model_module_version": "1.5.0",
      "model_name": "ProgressStyleModel",
      "state": {
       "description_width": ""
      }
     },
     "0382d4a51b4b4f2b84de671c64b7cb56": {
      "model_module": "@jupyter-widgets/base",
      "model_module_version": "1.2.0",
      "model_name": "LayoutModel",
      "state": {}
     },
     "03af8812006d4a17ba4fe675b75042f2": {
      "model_module": "@jupyter-widgets/controls",
      "model_module_version": "1.5.0",
      "model_name": "DescriptionStyleModel",
      "state": {
       "description_width": ""
      }
     },
     "03d9f66d407d4e44a05eb438c18d3012": {
      "model_module": "@jupyter-widgets/controls",
      "model_module_version": "1.5.0",
      "model_name": "ProgressStyleModel",
      "state": {
       "description_width": ""
      }
     },
     "05bc992fb8714c4cbb6b858467af455a": {
      "model_module": "@jupyter-widgets/controls",
      "model_module_version": "1.5.0",
      "model_name": "LabelModel",
      "state": {
       "layout": "IPY_MODEL_b96fbd5cf7a24f888418e327847bfcc5",
       "style": "IPY_MODEL_fea312e711134e0d8330a7396cdee925",
       "value": "13 / 13"
      }
     },
     "07120ebca58e4313a1ee2c77aab3e47d": {
      "model_module": "@jupyter-widgets/controls",
      "model_module_version": "1.5.0",
      "model_name": "ProgressStyleModel",
      "state": {
       "description_width": ""
      }
     },
     "07be077df21241c6a8ab92f98b4c7cce": {
      "model_module": "@jupyter-widgets/controls",
      "model_module_version": "1.5.0",
      "model_name": "IntProgressModel",
      "state": {
       "bar_style": "success",
       "description": "100.00%",
       "layout": "IPY_MODEL_725f54a979d54382a45ad798e2a8bf47",
       "max": 13,
       "style": "IPY_MODEL_261afddc77d345a0977f33ead5c7bea7",
       "value": 13
      }
     },
     "082f281cb641498b81209934b76672e4": {
      "model_module": "@jupyter-widgets/controls",
      "model_module_version": "1.5.0",
      "model_name": "HBoxModel",
      "state": {
       "children": [
        "IPY_MODEL_9d9d95a83f98404493f4b24407457b22",
        "IPY_MODEL_430f74c2643a4a6c87c08b029c70f2ce"
       ],
       "layout": "IPY_MODEL_ad1ea88890f144a59b83165977b1968a"
      }
     },
     "08634438348b4d87a32b140014b932d3": {
      "model_module": "@jupyter-widgets/controls",
      "model_module_version": "1.5.0",
      "model_name": "IntProgressModel",
      "state": {
       "bar_style": "success",
       "description": "100.00%",
       "layout": "IPY_MODEL_aafbaf72237d46d383b44eaac09259c6",
       "max": 12,
       "style": "IPY_MODEL_28af1e16ef544434aeb0e9c427e93a8f",
       "value": 12
      }
     },
     "088cfa793c744da1b09d9376f2946734": {
      "model_module": "@jupyter-widgets/controls",
      "model_module_version": "1.5.0",
      "model_name": "IntProgressModel",
      "state": {
       "bar_style": "success",
       "description": "100.00%",
       "layout": "IPY_MODEL_a8fd6f8a043e47a78cedd0dbbc655771",
       "max": 12,
       "style": "IPY_MODEL_0965f298ccc145a99794fb718922acaa",
       "value": 12
      }
     },
     "0940f0c573654034b9fd220cf6ac9dba": {
      "model_module": "@jupyter-widgets/base",
      "model_module_version": "1.2.0",
      "model_name": "LayoutModel",
      "state": {}
     },
     "0965f298ccc145a99794fb718922acaa": {
      "model_module": "@jupyter-widgets/controls",
      "model_module_version": "1.5.0",
      "model_name": "ProgressStyleModel",
      "state": {
       "description_width": ""
      }
     },
     "09e243c1c3064bdbb74b7e21aff1f830": {
      "model_module": "@jupyter-widgets/controls",
      "model_module_version": "1.5.0",
      "model_name": "HBoxModel",
      "state": {
       "children": [
        "IPY_MODEL_850ad513c94a4af09c897cf9a720f3f2",
        "IPY_MODEL_b3a62fc486c746c8a806ebf08edba121"
       ],
       "layout": "IPY_MODEL_324cd3d22a6e4a26bfd8f9e134620a61"
      }
     },
     "0b286bd194044e78bdb20bfa21326128": {
      "model_module": "@jupyter-widgets/base",
      "model_module_version": "1.2.0",
      "model_name": "LayoutModel",
      "state": {}
     },
     "0c041635d28043b8aeb5213252b8b353": {
      "model_module": "@jupyter-widgets/controls",
      "model_module_version": "1.5.0",
      "model_name": "HBoxModel",
      "state": {
       "children": [
        "IPY_MODEL_fd7ece19a7724200b3f4e5dfdead43d9",
        "IPY_MODEL_ab726c55fd01422087a4483df9baf36b"
       ],
       "layout": "IPY_MODEL_8267022393b24692af4e41fd8c9aed9d"
      }
     },
     "0cbd36b8c04447b8a5c7581d5321d9ee": {
      "model_module": "@jupyter-widgets/controls",
      "model_module_version": "1.5.0",
      "model_name": "IntProgressModel",
      "state": {
       "bar_style": "success",
       "description": "100.00%",
       "layout": "IPY_MODEL_349c04bebd414a3f80cc2faf4f932885",
       "max": 12,
       "style": "IPY_MODEL_0f58380af36c4d948336ded0c6d9ebea",
       "value": 12
      }
     },
     "0ce2fdd1051d43c888197b900da5b828": {
      "model_module": "@jupyter-widgets/controls",
      "model_module_version": "1.5.0",
      "model_name": "IntProgressModel",
      "state": {
       "bar_style": "success",
       "description": "100.00%",
       "layout": "IPY_MODEL_26c0e3b401fe45568a849fd0a7fa1ce0",
       "max": 13,
       "style": "IPY_MODEL_4e990eb260774770a4d4d2682b352c09",
       "value": 13
      }
     },
     "0cf924fc23c348068018f1519189fa34": {
      "model_module": "@jupyter-widgets/base",
      "model_module_version": "1.2.0",
      "model_name": "LayoutModel",
      "state": {}
     },
     "0cff93f83cd84121a7460f09c940f5ca": {
      "model_module": "@jupyter-widgets/base",
      "model_module_version": "1.2.0",
      "model_name": "LayoutModel",
      "state": {}
     },
     "0d6e0f2a7d31402fb0e9465b6c8cf2ef": {
      "model_module": "@jupyter-widgets/controls",
      "model_module_version": "1.5.0",
      "model_name": "ProgressStyleModel",
      "state": {
       "description_width": ""
      }
     },
     "0dd5db7f168a4651bd3838b2d70dc8a0": {
      "model_module": "@jupyter-widgets/controls",
      "model_module_version": "1.5.0",
      "model_name": "ProgressStyleModel",
      "state": {
       "description_width": ""
      }
     },
     "0e483ab17f5f4a4eb0147051fe99df9e": {
      "model_module": "@jupyter-widgets/controls",
      "model_module_version": "1.5.0",
      "model_name": "DescriptionStyleModel",
      "state": {
       "description_width": ""
      }
     },
     "0e5d090b16d24b9a8199d7b689d1d2bc": {
      "model_module": "@jupyter-widgets/base",
      "model_module_version": "1.2.0",
      "model_name": "LayoutModel",
      "state": {}
     },
     "0edc96063651470b8b2f0aed8d0de517": {
      "model_module": "@jupyter-widgets/controls",
      "model_module_version": "1.5.0",
      "model_name": "ProgressStyleModel",
      "state": {
       "description_width": ""
      }
     },
     "0ee857fabd5c40ffa167f18b82b8c126": {
      "model_module": "@jupyter-widgets/base",
      "model_module_version": "1.2.0",
      "model_name": "LayoutModel",
      "state": {}
     },
     "0f58380af36c4d948336ded0c6d9ebea": {
      "model_module": "@jupyter-widgets/controls",
      "model_module_version": "1.5.0",
      "model_name": "ProgressStyleModel",
      "state": {
       "description_width": ""
      }
     },
     "0f5c6609cc644022b691c605c0abcfcc": {
      "model_module": "@jupyter-widgets/base",
      "model_module_version": "1.2.0",
      "model_name": "LayoutModel",
      "state": {}
     },
     "0f60604ab3e040c28b5d414ead5f0826": {
      "model_module": "@jupyter-widgets/controls",
      "model_module_version": "1.5.0",
      "model_name": "LabelModel",
      "state": {
       "layout": "IPY_MODEL_bb26c01e4ed7447cbc09028931d8455c",
       "style": "IPY_MODEL_88322be759f34de48b4df83f19ec268f",
       "value": "12 / 12"
      }
     },
     "0f7c750a93354e4eaa49e6e03d72a7f1": {
      "model_module": "@jupyter-widgets/controls",
      "model_module_version": "1.5.0",
      "model_name": "IntProgressModel",
      "state": {
       "bar_style": "success",
       "description": "100.00%",
       "layout": "IPY_MODEL_daa76a8acfff4004a7a1c6babeb74ea8",
       "max": 13,
       "style": "IPY_MODEL_c678c7f74f4047e69885340b70ba4a0e",
       "value": 13
      }
     },
     "0fcac15847724e369ebace7096b46892": {
      "model_module": "@jupyter-widgets/base",
      "model_module_version": "1.2.0",
      "model_name": "LayoutModel",
      "state": {}
     },
     "10531936214d4f86bdc2b60633c4c041": {
      "model_module": "@jupyter-widgets/controls",
      "model_module_version": "1.5.0",
      "model_name": "LabelModel",
      "state": {
       "layout": "IPY_MODEL_8e3f343cc4264c78b05dfb80c5039103",
       "style": "IPY_MODEL_6011a6618ce24cc79f4e8668e237e0ff",
       "value": "13 / 13"
      }
     },
     "116a728076134470b27fb2c38dbd6d52": {
      "model_module": "@jupyter-widgets/base",
      "model_module_version": "1.2.0",
      "model_name": "LayoutModel",
      "state": {}
     },
     "12263c59c3654dae8912c9ffbc66ec5d": {
      "model_module": "@jupyter-widgets/base",
      "model_module_version": "1.2.0",
      "model_name": "LayoutModel",
      "state": {}
     },
     "1324c630a4dc4545a65c2218af528041": {
      "model_module": "@jupyter-widgets/base",
      "model_module_version": "1.2.0",
      "model_name": "LayoutModel",
      "state": {}
     },
     "136c98fd96044e258e9cf726d7f22844": {
      "model_module": "@jupyter-widgets/base",
      "model_module_version": "1.2.0",
      "model_name": "LayoutModel",
      "state": {}
     },
     "13bb13b27dd649d8a897edbe9226f4de": {
      "model_module": "@jupyter-widgets/controls",
      "model_module_version": "1.5.0",
      "model_name": "DescriptionStyleModel",
      "state": {
       "description_width": ""
      }
     },
     "14c157272b6940d58c6edf6c49381e0a": {
      "model_module": "@jupyter-widgets/controls",
      "model_module_version": "1.5.0",
      "model_name": "DescriptionStyleModel",
      "state": {
       "description_width": ""
      }
     },
     "14e206bf99c0402597f5c43985cf6abc": {
      "model_module": "@jupyter-widgets/controls",
      "model_module_version": "1.5.0",
      "model_name": "LabelModel",
      "state": {
       "layout": "IPY_MODEL_4267205947e144b58658b7d684fe1aa8",
       "style": "IPY_MODEL_9eb85fcc755a41bc879484ca5ac49fd8",
       "value": "13 / 13"
      }
     },
     "1524bfefca914a6b995b1d0192b53f42": {
      "model_module": "@jupyter-widgets/controls",
      "model_module_version": "1.5.0",
      "model_name": "HBoxModel",
      "state": {
       "children": [
        "IPY_MODEL_475707e6fb4a451f8dbd45766664ddbe",
        "IPY_MODEL_b98af397a29947b6885e36848adae9d7"
       ],
       "layout": "IPY_MODEL_6db95a5341b646649425ec34f93ba3b5"
      }
     },
     "1589060267fd4ec9b81822e17d05d876": {
      "model_module": "@jupyter-widgets/controls",
      "model_module_version": "1.5.0",
      "model_name": "HBoxModel",
      "state": {
       "children": [
        "IPY_MODEL_49fbab7266da4b9e8d5625327a34aa70",
        "IPY_MODEL_76d008c1fb0942ef9d287fb305ad115f"
       ],
       "layout": "IPY_MODEL_b8ca1fc298e6473fafa2dbac3e5b140d"
      }
     },
     "1635a701265e4d45882abad154f22c8d": {
      "model_module": "@jupyter-widgets/controls",
      "model_module_version": "1.5.0",
      "model_name": "DescriptionStyleModel",
      "state": {
       "description_width": ""
      }
     },
     "16ce751283cf4990a9096a38fe61a6f1": {
      "model_module": "@jupyter-widgets/base",
      "model_module_version": "1.2.0",
      "model_name": "LayoutModel",
      "state": {}
     },
     "1874928d00fb46cca8ba29a1f94e124b": {
      "model_module": "@jupyter-widgets/controls",
      "model_module_version": "1.5.0",
      "model_name": "ProgressStyleModel",
      "state": {
       "description_width": ""
      }
     },
     "18d3e43278f94a748846effbfab2486e": {
      "model_module": "@jupyter-widgets/controls",
      "model_module_version": "1.5.0",
      "model_name": "HBoxModel",
      "state": {
       "children": [
        "IPY_MODEL_5e74e8c03f364aa7a061465be353229e",
        "IPY_MODEL_609c97ee77474e40beb608f3664772e2"
       ],
       "layout": "IPY_MODEL_7c87b8a96b034a37810434ad74aae74a"
      }
     },
     "19408e80c27d42878fd2bb02195e1370": {
      "model_module": "@jupyter-widgets/controls",
      "model_module_version": "1.5.0",
      "model_name": "IntProgressModel",
      "state": {
       "bar_style": "success",
       "description": "100.00%",
       "layout": "IPY_MODEL_136c98fd96044e258e9cf726d7f22844",
       "max": 12,
       "style": "IPY_MODEL_410ac1f15dff486c8a06be1d2a44185e",
       "value": 12
      }
     },
     "1a01a8330d92413c86658afcd664d78e": {
      "model_module": "@jupyter-widgets/controls",
      "model_module_version": "1.5.0",
      "model_name": "IntProgressModel",
      "state": {
       "bar_style": "success",
       "description": "100.00%",
       "layout": "IPY_MODEL_1f67f3659e7b4bd799603f0eb876a7f3",
       "max": 12,
       "style": "IPY_MODEL_5fb2a6138e5945bb8f8a2e8ab58f72c2",
       "value": 12
      }
     },
     "1a40eb09e5d846c09c9558514b565427": {
      "model_module": "@jupyter-widgets/controls",
      "model_module_version": "1.5.0",
      "model_name": "ProgressStyleModel",
      "state": {
       "description_width": ""
      }
     },
     "1a574496baf14e51ade58f7f6513c2af": {
      "model_module": "@jupyter-widgets/controls",
      "model_module_version": "1.5.0",
      "model_name": "HBoxModel",
      "state": {
       "children": [
        "IPY_MODEL_5fc292df55b84dacbbd2ad1776c8015c",
        "IPY_MODEL_b309e6380d8a4ab09e6e06441f16e8cc"
       ],
       "layout": "IPY_MODEL_488afb10f41342dfb29a97826c3c7cae"
      }
     },
     "1a741322a6524cc2ace55e59f5a5caf4": {
      "model_module": "@jupyter-widgets/base",
      "model_module_version": "1.2.0",
      "model_name": "LayoutModel",
      "state": {}
     },
     "1ae804be18fa4cdebfc44c7af02e1784": {
      "model_module": "@jupyter-widgets/controls",
      "model_module_version": "1.5.0",
      "model_name": "DescriptionStyleModel",
      "state": {
       "description_width": ""
      }
     },
     "1b02644725684395b75be7d60a1c1fc6": {
      "model_module": "@jupyter-widgets/base",
      "model_module_version": "1.2.0",
      "model_name": "LayoutModel",
      "state": {}
     },
     "1b7ed6b78f4d4e65aec5811969cf325a": {
      "model_module": "@jupyter-widgets/controls",
      "model_module_version": "1.5.0",
      "model_name": "IntProgressModel",
      "state": {
       "bar_style": "success",
       "description": "100.00%",
       "layout": "IPY_MODEL_1f1de898cee8438dabeb897b16d8e1e0",
       "max": 13,
       "style": "IPY_MODEL_c47680acaaa24687a6274f17f730f7ad",
       "value": 13
      }
     },
     "1b81f561c8654df08925770874687e1b": {
      "model_module": "@jupyter-widgets/controls",
      "model_module_version": "1.5.0",
      "model_name": "HBoxModel",
      "state": {
       "children": [
        "IPY_MODEL_3ff3752860e54e95a6e27a0c33067099",
        "IPY_MODEL_55bda3636e524a688575762bc055191a"
       ],
       "layout": "IPY_MODEL_c6f20d15cbec4e9ab81298e756b62da3"
      }
     },
     "1c6ccf7c865645f79cd15a44c4ec6aae": {
      "model_module": "@jupyter-widgets/controls",
      "model_module_version": "1.5.0",
      "model_name": "ProgressStyleModel",
      "state": {
       "description_width": ""
      }
     },
     "1c87d30b14d34e519a3a31ca4e6afbdd": {
      "model_module": "@jupyter-widgets/controls",
      "model_module_version": "1.5.0",
      "model_name": "HTMLModel",
      "state": {
       "layout": "IPY_MODEL_ac29a2f1c1354abe9683296fe4a937ef",
       "style": "IPY_MODEL_a36a38ebb6fe4805950544336fcacc60",
       "value": "100%"
      }
     },
     "1ca110030f2248498748e0d18fc7ec72": {
      "model_module": "@jupyter-widgets/controls",
      "model_module_version": "1.5.0",
      "model_name": "LabelModel",
      "state": {
       "layout": "IPY_MODEL_3d24ed80e65d4afeb0cd0ed7548778c7",
       "style": "IPY_MODEL_2a6a16f8d34f4e21984821e119354779",
       "value": "13 / 13"
      }
     },
     "1d8b1e1fa65b4b87b917e29c72b75788": {
      "model_module": "@jupyter-widgets/controls",
      "model_module_version": "1.5.0",
      "model_name": "ProgressStyleModel",
      "state": {
       "description_width": ""
      }
     },
     "1da09399524945cd988f3907000b110f": {
      "model_module": "@jupyter-widgets/controls",
      "model_module_version": "1.5.0",
      "model_name": "HBoxModel",
      "state": {
       "children": [
        "IPY_MODEL_1b7ed6b78f4d4e65aec5811969cf325a",
        "IPY_MODEL_b76a9a08dd2f4de09cddd56bbfac7743"
       ],
       "layout": "IPY_MODEL_22b3ea30c2ef4db8b66c06e7ba3d3c8b"
      }
     },
     "1dc63bc46af040968b7acbb6e62c34dd": {
      "model_module": "@jupyter-widgets/base",
      "model_module_version": "1.2.0",
      "model_name": "LayoutModel",
      "state": {}
     },
     "1e785a1836c54346ae02681b514bbde0": {
      "model_module": "@jupyter-widgets/base",
      "model_module_version": "1.2.0",
      "model_name": "LayoutModel",
      "state": {}
     },
     "1ec1c81b4d6f4db6a1917e7c487f326d": {
      "model_module": "@jupyter-widgets/controls",
      "model_module_version": "1.5.0",
      "model_name": "ProgressStyleModel",
      "state": {
       "description_width": ""
      }
     },
     "1f1de898cee8438dabeb897b16d8e1e0": {
      "model_module": "@jupyter-widgets/base",
      "model_module_version": "1.2.0",
      "model_name": "LayoutModel",
      "state": {}
     },
     "1f67f3659e7b4bd799603f0eb876a7f3": {
      "model_module": "@jupyter-widgets/base",
      "model_module_version": "1.2.0",
      "model_name": "LayoutModel",
      "state": {}
     },
     "1fdcb49a4c5144b8851e7478cd4b8be6": {
      "model_module": "@jupyter-widgets/controls",
      "model_module_version": "1.5.0",
      "model_name": "DescriptionStyleModel",
      "state": {
       "description_width": ""
      }
     },
     "2078d53cdc464ba3aee125bcc4fe714e": {
      "model_module": "@jupyter-widgets/controls",
      "model_module_version": "1.5.0",
      "model_name": "IntProgressModel",
      "state": {
       "bar_style": "success",
       "description": "100.00%",
       "layout": "IPY_MODEL_c8bca9d26e50469e9535b44deb18da91",
       "max": 13,
       "style": "IPY_MODEL_46a42cf6c7164ea789f3a6ef1524f319",
       "value": 13
      }
     },
     "2084699ca0d844efb5cbf8e00e8886d6": {
      "model_module": "@jupyter-widgets/base",
      "model_module_version": "1.2.0",
      "model_name": "LayoutModel",
      "state": {}
     },
     "209964d9f8b44f9799f2584f3058c210": {
      "model_module": "@jupyter-widgets/controls",
      "model_module_version": "1.5.0",
      "model_name": "DescriptionStyleModel",
      "state": {
       "description_width": ""
      }
     },
     "20adf321f6384cc09ca3e05b3e5b8476": {
      "model_module": "@jupyter-widgets/base",
      "model_module_version": "1.2.0",
      "model_name": "LayoutModel",
      "state": {}
     },
     "220e593a69714eb99cfbccaae910d553": {
      "model_module": "@jupyter-widgets/controls",
      "model_module_version": "1.5.0",
      "model_name": "IntProgressModel",
      "state": {
       "bar_style": "success",
       "description": "100.00%",
       "layout": "IPY_MODEL_f6d8377a7abc4eb897f5c6752aa74e2b",
       "max": 12,
       "style": "IPY_MODEL_8ca5a85d68ad4c2b88f00a1578a17df5",
       "value": 12
      }
     },
     "22b3ea30c2ef4db8b66c06e7ba3d3c8b": {
      "model_module": "@jupyter-widgets/base",
      "model_module_version": "1.2.0",
      "model_name": "LayoutModel",
      "state": {}
     },
     "239c555feb0a406db45d4e2dff6e6d4a": {
      "model_module": "@jupyter-widgets/base",
      "model_module_version": "1.2.0",
      "model_name": "LayoutModel",
      "state": {}
     },
     "23d0ce114c3143a09992f3fdd480b317": {
      "model_module": "@jupyter-widgets/base",
      "model_module_version": "1.2.0",
      "model_name": "LayoutModel",
      "state": {}
     },
     "24b73d81b45d447ba1170409d8fe524c": {
      "model_module": "@jupyter-widgets/controls",
      "model_module_version": "1.5.0",
      "model_name": "IntProgressModel",
      "state": {
       "bar_style": "success",
       "description": "100.00%",
       "layout": "IPY_MODEL_aad48e881224441581241c029feb05b0",
       "max": 12,
       "style": "IPY_MODEL_0edc96063651470b8b2f0aed8d0de517",
       "value": 12
      }
     },
     "24cd06ba2e04447894e61312c118e820": {
      "model_module": "@jupyter-widgets/controls",
      "model_module_version": "1.5.0",
      "model_name": "ProgressStyleModel",
      "state": {
       "description_width": ""
      }
     },
     "2507310eca7847bfa0f8d451b61fb8f7": {
      "model_module": "@jupyter-widgets/controls",
      "model_module_version": "1.5.0",
      "model_name": "DescriptionStyleModel",
      "state": {
       "description_width": ""
      }
     },
     "259c7624e6b84012bae1a8a46723d517": {
      "model_module": "@jupyter-widgets/controls",
      "model_module_version": "1.5.0",
      "model_name": "HBoxModel",
      "state": {
       "children": [
        "IPY_MODEL_26a9d893dc6441d2b55b74c8edf1f2d1",
        "IPY_MODEL_3733b17ae3f642cc8a224134139c7edd"
       ],
       "layout": "IPY_MODEL_d9d33cf511d742c78d7a37c6aece3324"
      }
     },
     "25a596b3a8e942d980333b43c22627ec": {
      "model_module": "@jupyter-widgets/controls",
      "model_module_version": "1.5.0",
      "model_name": "ProgressStyleModel",
      "state": {
       "description_width": ""
      }
     },
     "261afddc77d345a0977f33ead5c7bea7": {
      "model_module": "@jupyter-widgets/controls",
      "model_module_version": "1.5.0",
      "model_name": "ProgressStyleModel",
      "state": {
       "description_width": ""
      }
     },
     "26a9d893dc6441d2b55b74c8edf1f2d1": {
      "model_module": "@jupyter-widgets/controls",
      "model_module_version": "1.5.0",
      "model_name": "IntProgressModel",
      "state": {
       "bar_style": "success",
       "description": "100.00%",
       "layout": "IPY_MODEL_1b02644725684395b75be7d60a1c1fc6",
       "max": 12,
       "style": "IPY_MODEL_60471ad3a9004594bff49ea2a072200d",
       "value": 12
      }
     },
     "26c0e3b401fe45568a849fd0a7fa1ce0": {
      "model_module": "@jupyter-widgets/base",
      "model_module_version": "1.2.0",
      "model_name": "LayoutModel",
      "state": {}
     },
     "2723ed847ae74211ad6d0ec48feec7e3": {
      "model_module": "@jupyter-widgets/base",
      "model_module_version": "1.2.0",
      "model_name": "LayoutModel",
      "state": {}
     },
     "2754a4bb3942449da0c63c4f50724d3f": {
      "model_module": "@jupyter-widgets/controls",
      "model_module_version": "1.5.0",
      "model_name": "ProgressStyleModel",
      "state": {
       "description_width": ""
      }
     },
     "2812816d64b8483d92291f5b8c4713a7": {
      "model_module": "@jupyter-widgets/controls",
      "model_module_version": "1.5.0",
      "model_name": "DescriptionStyleModel",
      "state": {
       "description_width": ""
      }
     },
     "284755d6cdec413ebcbd026dffadc205": {
      "model_module": "@jupyter-widgets/controls",
      "model_module_version": "1.5.0",
      "model_name": "HBoxModel",
      "state": {
       "children": [
        "IPY_MODEL_8c492369ebf84d988fb6dde86eda3c21",
        "IPY_MODEL_e6dd783347ca453f936139d0ef26c206"
       ],
       "layout": "IPY_MODEL_9efdd6d77822491a82399b8f1d6f2c8a"
      }
     },
     "28af1e16ef544434aeb0e9c427e93a8f": {
      "model_module": "@jupyter-widgets/controls",
      "model_module_version": "1.5.0",
      "model_name": "ProgressStyleModel",
      "state": {
       "description_width": ""
      }
     },
     "28c41b3b953a4d209e13add8b11c3c64": {
      "model_module": "@jupyter-widgets/base",
      "model_module_version": "1.2.0",
      "model_name": "LayoutModel",
      "state": {}
     },
     "2a67a44d18a14f78af25d8722a515767": {
      "model_module": "@jupyter-widgets/base",
      "model_module_version": "1.2.0",
      "model_name": "LayoutModel",
      "state": {}
     },
     "2a6a16f8d34f4e21984821e119354779": {
      "model_module": "@jupyter-widgets/controls",
      "model_module_version": "1.5.0",
      "model_name": "DescriptionStyleModel",
      "state": {
       "description_width": ""
      }
     },
     "2a75e29a592644acbb9a626e99b6805c": {
      "model_module": "@jupyter-widgets/base",
      "model_module_version": "1.2.0",
      "model_name": "LayoutModel",
      "state": {}
     },
     "2acd97fd6aef43d4befc20309a2a54d2": {
      "model_module": "@jupyter-widgets/controls",
      "model_module_version": "1.5.0",
      "model_name": "IntProgressModel",
      "state": {
       "bar_style": "success",
       "description": "100.00%",
       "layout": "IPY_MODEL_6ec7bb0eb8144582ae3573b85579cec6",
       "max": 13,
       "style": "IPY_MODEL_2754a4bb3942449da0c63c4f50724d3f",
       "value": 13
      }
     },
     "2b34d7903be54063897e15cf8a0859e0": {
      "model_module": "@jupyter-widgets/controls",
      "model_module_version": "1.5.0",
      "model_name": "FloatProgressModel",
      "state": {
       "bar_style": "success",
       "layout": "IPY_MODEL_46a219fac85d48d29e5bb8d28cad75e9",
       "max": 51,
       "style": "IPY_MODEL_1874928d00fb46cca8ba29a1f94e124b",
       "value": 51
      }
     },
     "2d27136a185445ad9b68d1a2c452e2fc": {
      "model_module": "@jupyter-widgets/base",
      "model_module_version": "1.2.0",
      "model_name": "LayoutModel",
      "state": {}
     },
     "2e404dac4fde4b53be4a4a328bfabf6f": {
      "model_module": "@jupyter-widgets/controls",
      "model_module_version": "1.5.0",
      "model_name": "LabelModel",
      "state": {
       "layout": "IPY_MODEL_0cf924fc23c348068018f1519189fa34",
       "style": "IPY_MODEL_d80dda580ed34372b1a4c8a8d793f17e",
       "value": "12 / 12"
      }
     },
     "2ea352d16fc64c3ba9019b7ba356cba2": {
      "model_module": "@jupyter-widgets/base",
      "model_module_version": "1.2.0",
      "model_name": "LayoutModel",
      "state": {}
     },
     "2fe3037e3a8646e89e90d5e790947d7f": {
      "model_module": "@jupyter-widgets/controls",
      "model_module_version": "1.5.0",
      "model_name": "LabelModel",
      "state": {
       "layout": "IPY_MODEL_6d1a6f2d2a4c4edfb826a7aa219cca7f",
       "style": "IPY_MODEL_994ae356dfcd4d26b7fdb878675256b9",
       "value": "13 / 13"
      }
     },
     "2ff7d307c9634f95b73adc2ad86af1b1": {
      "model_module": "@jupyter-widgets/base",
      "model_module_version": "1.2.0",
      "model_name": "LayoutModel",
      "state": {}
     },
     "3014e4240ac947a2b9ba92c8811cddf5": {
      "model_module": "@jupyter-widgets/base",
      "model_module_version": "1.2.0",
      "model_name": "LayoutModel",
      "state": {}
     },
     "3050c77f166542479525bb7513bb21e9": {
      "model_module": "@jupyter-widgets/controls",
      "model_module_version": "1.5.0",
      "model_name": "LabelModel",
      "state": {
       "layout": "IPY_MODEL_602467324b9d404bb5b91828ce4b3bb2",
       "style": "IPY_MODEL_1fdcb49a4c5144b8851e7478cd4b8be6",
       "value": "12 / 12"
      }
     },
     "3067d240c3d740e994d55d91e6547456": {
      "model_module": "@jupyter-widgets/base",
      "model_module_version": "1.2.0",
      "model_name": "LayoutModel",
      "state": {}
     },
     "30eb6add897840a796dd8527b0359181": {
      "model_module": "@jupyter-widgets/base",
      "model_module_version": "1.2.0",
      "model_name": "LayoutModel",
      "state": {}
     },
     "314bf1c668f5418db098107ff4700d18": {
      "model_module": "@jupyter-widgets/base",
      "model_module_version": "1.2.0",
      "model_name": "LayoutModel",
      "state": {}
     },
     "31aa3685abb94526b07f684c34ba0fd7": {
      "model_module": "@jupyter-widgets/base",
      "model_module_version": "1.2.0",
      "model_name": "LayoutModel",
      "state": {}
     },
     "31c4ae50abb4491a9df53e5d57e150f8": {
      "model_module": "@jupyter-widgets/controls",
      "model_module_version": "1.5.0",
      "model_name": "DescriptionStyleModel",
      "state": {
       "description_width": ""
      }
     },
     "31c8c0777b694e369f9de7d94590bb66": {
      "model_module": "@jupyter-widgets/controls",
      "model_module_version": "1.5.0",
      "model_name": "HTMLModel",
      "state": {
       "layout": "IPY_MODEL_946e777291f74fc9a0a7e8adaef1dd5f",
       "style": "IPY_MODEL_895104e0ad4946caa371c0f826dce2e8",
       "value": " 51/51 [2:00:05&lt;00:00, 103.47s/it]"
      }
     },
     "31d5d49f2dcb4633ab4aac8ab657ca46": {
      "model_module": "@jupyter-widgets/controls",
      "model_module_version": "1.5.0",
      "model_name": "DescriptionStyleModel",
      "state": {
       "description_width": ""
      }
     },
     "31e12f4adeae49c69c35b86981ffbff8": {
      "model_module": "@jupyter-widgets/base",
      "model_module_version": "1.2.0",
      "model_name": "LayoutModel",
      "state": {}
     },
     "3206d09b739d4406b7ac51a2b9cd4934": {
      "model_module": "@jupyter-widgets/controls",
      "model_module_version": "1.5.0",
      "model_name": "ProgressStyleModel",
      "state": {
       "description_width": ""
      }
     },
     "322113e1732c4555a89a8a5425f718c1": {
      "model_module": "@jupyter-widgets/base",
      "model_module_version": "1.2.0",
      "model_name": "LayoutModel",
      "state": {}
     },
     "3244ed81fbdc4d79b08c37716f5a4b2e": {
      "model_module": "@jupyter-widgets/controls",
      "model_module_version": "1.5.0",
      "model_name": "HBoxModel",
      "state": {
       "children": [
        "IPY_MODEL_0ce2fdd1051d43c888197b900da5b828",
        "IPY_MODEL_9b8098105d484f81885134a64921beec"
       ],
       "layout": "IPY_MODEL_8e47e7de2c0c4ac7a5a1f418dca19293"
      }
     },
     "324cd3d22a6e4a26bfd8f9e134620a61": {
      "model_module": "@jupyter-widgets/base",
      "model_module_version": "1.2.0",
      "model_name": "LayoutModel",
      "state": {}
     },
     "32cc3d2092134c2288e859b1ad0435ee": {
      "model_module": "@jupyter-widgets/base",
      "model_module_version": "1.2.0",
      "model_name": "LayoutModel",
      "state": {}
     },
     "3326cabe630f463c8a05948cbb3cf641": {
      "model_module": "@jupyter-widgets/controls",
      "model_module_version": "1.5.0",
      "model_name": "IntProgressModel",
      "state": {
       "bar_style": "success",
       "description": "100.00%",
       "layout": "IPY_MODEL_0f5c6609cc644022b691c605c0abcfcc",
       "max": 12,
       "style": "IPY_MODEL_8e3223e67fe641b2b76904bfcc269a4c",
       "value": 12
      }
     },
     "33317cc50e1542cd80686ec3e108ef33": {
      "model_module": "@jupyter-widgets/controls",
      "model_module_version": "1.5.0",
      "model_name": "HBoxModel",
      "state": {
       "children": [
        "IPY_MODEL_07be077df21241c6a8ab92f98b4c7cce",
        "IPY_MODEL_58a0c0f076a24cae95303f0e4db54480"
       ],
       "layout": "IPY_MODEL_2723ed847ae74211ad6d0ec48feec7e3"
      }
     },
     "3410f0fcc0e04281ade3b623db4057f1": {
      "model_module": "@jupyter-widgets/base",
      "model_module_version": "1.2.0",
      "model_name": "LayoutModel",
      "state": {}
     },
     "342b43daa14c40ee867764ae05fcc302": {
      "model_module": "@jupyter-widgets/controls",
      "model_module_version": "1.5.0",
      "model_name": "ProgressStyleModel",
      "state": {
       "description_width": ""
      }
     },
     "3457f4a65e454b94bf5bbd740b5cda62": {
      "model_module": "@jupyter-widgets/base",
      "model_module_version": "1.2.0",
      "model_name": "LayoutModel",
      "state": {}
     },
     "349c04bebd414a3f80cc2faf4f932885": {
      "model_module": "@jupyter-widgets/base",
      "model_module_version": "1.2.0",
      "model_name": "LayoutModel",
      "state": {}
     },
     "36486e4baab94f13917b82e94b792808": {
      "model_module": "@jupyter-widgets/controls",
      "model_module_version": "1.5.0",
      "model_name": "LabelModel",
      "state": {
       "layout": "IPY_MODEL_28c41b3b953a4d209e13add8b11c3c64",
       "style": "IPY_MODEL_1635a701265e4d45882abad154f22c8d",
       "value": "13 / 13"
      }
     },
     "3652f616f3944100adb5c12305d5f31f": {
      "model_module": "@jupyter-widgets/controls",
      "model_module_version": "1.5.0",
      "model_name": "ProgressStyleModel",
      "state": {
       "description_width": ""
      }
     },
     "36bb75a7b5634a4f8b03251df1ff9fe9": {
      "model_module": "@jupyter-widgets/controls",
      "model_module_version": "1.5.0",
      "model_name": "LabelModel",
      "state": {
       "layout": "IPY_MODEL_2d27136a185445ad9b68d1a2c452e2fc",
       "style": "IPY_MODEL_c3e78026106a46abbb0f81467428b34f",
       "value": "12 / 12"
      }
     },
     "36c5815adc76415bae45dd24c8c64c54": {
      "model_module": "@jupyter-widgets/controls",
      "model_module_version": "1.5.0",
      "model_name": "DescriptionStyleModel",
      "state": {
       "description_width": ""
      }
     },
     "3733b17ae3f642cc8a224134139c7edd": {
      "model_module": "@jupyter-widgets/controls",
      "model_module_version": "1.5.0",
      "model_name": "LabelModel",
      "state": {
       "layout": "IPY_MODEL_d8b19c01d6c44191b337703687318940",
       "style": "IPY_MODEL_c2b296a8055d4f43a20e778529093319",
       "value": "12 / 12"
      }
     },
     "37e92c50a13f4715a32a57573f333a51": {
      "model_module": "@jupyter-widgets/controls",
      "model_module_version": "1.5.0",
      "model_name": "DescriptionStyleModel",
      "state": {
       "description_width": ""
      }
     },
     "3960777237b144b585e0a896208b6795": {
      "model_module": "@jupyter-widgets/controls",
      "model_module_version": "1.5.0",
      "model_name": "LabelModel",
      "state": {
       "layout": "IPY_MODEL_50e5248e2ccb4b389d04d5021ca98015",
       "style": "IPY_MODEL_2507310eca7847bfa0f8d451b61fb8f7",
       "value": "12 / 12"
      }
     },
     "39ea4389c30b4c4d8449aae57b46170c": {
      "model_module": "@jupyter-widgets/base",
      "model_module_version": "1.2.0",
      "model_name": "LayoutModel",
      "state": {}
     },
     "3a6ef1bfd7ab45aaa0cc650c252b3092": {
      "model_module": "@jupyter-widgets/controls",
      "model_module_version": "1.5.0",
      "model_name": "LabelModel",
      "state": {
       "layout": "IPY_MODEL_6ad562c2cd2a4c4bb6f965a4f717c682",
       "style": "IPY_MODEL_a560fd288cc340789dd8892330c8f8f1",
       "value": "12 / 12"
      }
     },
     "3b3c9d75808a49c0832a210709237458": {
      "model_module": "@jupyter-widgets/controls",
      "model_module_version": "1.5.0",
      "model_name": "ProgressStyleModel",
      "state": {
       "description_width": ""
      }
     },
     "3cb1b807a30d4dd3901bb4ec2ff0bca8": {
      "model_module": "@jupyter-widgets/base",
      "model_module_version": "1.2.0",
      "model_name": "LayoutModel",
      "state": {}
     },
     "3d24ed80e65d4afeb0cd0ed7548778c7": {
      "model_module": "@jupyter-widgets/base",
      "model_module_version": "1.2.0",
      "model_name": "LayoutModel",
      "state": {}
     },
     "3d55ec59c17f4722a43a9cbd06f80321": {
      "model_module": "@jupyter-widgets/base",
      "model_module_version": "1.2.0",
      "model_name": "LayoutModel",
      "state": {}
     },
     "3ede4c3fe3244deebfc0023ea198ebd5": {
      "model_module": "@jupyter-widgets/base",
      "model_module_version": "1.2.0",
      "model_name": "LayoutModel",
      "state": {}
     },
     "3edf3cd4a2b7494bbd34d7baf8e38f6b": {
      "model_module": "@jupyter-widgets/base",
      "model_module_version": "1.2.0",
      "model_name": "LayoutModel",
      "state": {}
     },
     "3f7a13a862b841699a8989c843eedde1": {
      "model_module": "@jupyter-widgets/controls",
      "model_module_version": "1.5.0",
      "model_name": "IntProgressModel",
      "state": {
       "bar_style": "success",
       "description": "100.00%",
       "layout": "IPY_MODEL_419583e85b964b32a36bf14278b5606b",
       "max": 12,
       "style": "IPY_MODEL_e1f4f8deeb6241c29c52cafbe8241c91",
       "value": 12
      }
     },
     "3ff3752860e54e95a6e27a0c33067099": {
      "model_module": "@jupyter-widgets/controls",
      "model_module_version": "1.5.0",
      "model_name": "IntProgressModel",
      "state": {
       "bar_style": "success",
       "description": "100.00%",
       "layout": "IPY_MODEL_3067d240c3d740e994d55d91e6547456",
       "max": 13,
       "style": "IPY_MODEL_8776630de93d4933a4b1b48889a9e602",
       "value": 13
      }
     },
     "40b0450c5a664b49afa495dee7a4e4db": {
      "model_module": "@jupyter-widgets/controls",
      "model_module_version": "1.5.0",
      "model_name": "LabelModel",
      "state": {
       "layout": "IPY_MODEL_12263c59c3654dae8912c9ffbc66ec5d",
       "style": "IPY_MODEL_7b6230c32e9a4700a6d4242d838c8677",
       "value": "12 / 12"
      }
     },
     "410ac1f15dff486c8a06be1d2a44185e": {
      "model_module": "@jupyter-widgets/controls",
      "model_module_version": "1.5.0",
      "model_name": "ProgressStyleModel",
      "state": {
       "description_width": ""
      }
     },
     "419583e85b964b32a36bf14278b5606b": {
      "model_module": "@jupyter-widgets/base",
      "model_module_version": "1.2.0",
      "model_name": "LayoutModel",
      "state": {}
     },
     "41dbfa4442e04e21b01a507fad90483f": {
      "model_module": "@jupyter-widgets/base",
      "model_module_version": "1.2.0",
      "model_name": "LayoutModel",
      "state": {}
     },
     "4267205947e144b58658b7d684fe1aa8": {
      "model_module": "@jupyter-widgets/base",
      "model_module_version": "1.2.0",
      "model_name": "LayoutModel",
      "state": {}
     },
     "42678260a6524a52b59b1ca07fdc1c7b": {
      "model_module": "@jupyter-widgets/controls",
      "model_module_version": "1.5.0",
      "model_name": "HBoxModel",
      "state": {
       "children": [
        "IPY_MODEL_d311778430ca4c9a9f5e535b4a568f9c",
        "IPY_MODEL_0f60604ab3e040c28b5d414ead5f0826"
       ],
       "layout": "IPY_MODEL_d5e0e040df6f427eba7d2428cc311ed9"
      }
     },
     "42e6a87b7b714c5dbff62d846aa40cd2": {
      "model_module": "@jupyter-widgets/controls",
      "model_module_version": "1.5.0",
      "model_name": "IntProgressModel",
      "state": {
       "bar_style": "success",
       "description": "100.00%",
       "layout": "IPY_MODEL_da6d251fe70144b9a131d8f02236653c",
       "max": 13,
       "style": "IPY_MODEL_752f17aa798f4164b596122da06cf102",
       "value": 13
      }
     },
     "430f74c2643a4a6c87c08b029c70f2ce": {
      "model_module": "@jupyter-widgets/controls",
      "model_module_version": "1.5.0",
      "model_name": "LabelModel",
      "state": {
       "layout": "IPY_MODEL_a6b07fcea2884e65a7c985ecd0de7504",
       "style": "IPY_MODEL_31c4ae50abb4491a9df53e5d57e150f8",
       "value": "12 / 12"
      }
     },
     "43e51e46b0bf404997ce687072529eed": {
      "model_module": "@jupyter-widgets/controls",
      "model_module_version": "1.5.0",
      "model_name": "IntProgressModel",
      "state": {
       "bar_style": "success",
       "description": "100.00%",
       "layout": "IPY_MODEL_7a4089ed49ba412fb48577ae10efdd38",
       "max": 12,
       "style": "IPY_MODEL_e52267ac40b64cbeb446fc1279b4ac68",
       "value": 12
      }
     },
     "44aa334eafe74b49a8ab5692998af495": {
      "model_module": "@jupyter-widgets/base",
      "model_module_version": "1.2.0",
      "model_name": "LayoutModel",
      "state": {}
     },
     "44f55de690c44c539cb2a8b7b32afcd6": {
      "model_module": "@jupyter-widgets/controls",
      "model_module_version": "1.5.0",
      "model_name": "IntProgressModel",
      "state": {
       "bar_style": "success",
       "description": "100.00%",
       "layout": "IPY_MODEL_7c6c2ce5c7894ed6abdd9e4e16f308cc",
       "max": 12,
       "style": "IPY_MODEL_b54866acf0564e0daee6da1ae56b35e4",
       "value": 12
      }
     },
     "4596b11237fe474a8ab6545bb36b69ac": {
      "model_module": "@jupyter-widgets/controls",
      "model_module_version": "1.5.0",
      "model_name": "LabelModel",
      "state": {
       "layout": "IPY_MODEL_bcb2ec848f5a456390a85fbe58a1c7b0",
       "style": "IPY_MODEL_2812816d64b8483d92291f5b8c4713a7",
       "value": "13 / 13"
      }
     },
     "46207acebbe64d1f937bb99dd0e8bbf4": {
      "model_module": "@jupyter-widgets/controls",
      "model_module_version": "1.5.0",
      "model_name": "ProgressStyleModel",
      "state": {
       "description_width": ""
      }
     },
     "466e565c097d48e3992c5434ee445153": {
      "model_module": "@jupyter-widgets/controls",
      "model_module_version": "1.5.0",
      "model_name": "DescriptionStyleModel",
      "state": {
       "description_width": ""
      }
     },
     "46a219fac85d48d29e5bb8d28cad75e9": {
      "model_module": "@jupyter-widgets/base",
      "model_module_version": "1.2.0",
      "model_name": "LayoutModel",
      "state": {}
     },
     "46a42cf6c7164ea789f3a6ef1524f319": {
      "model_module": "@jupyter-widgets/controls",
      "model_module_version": "1.5.0",
      "model_name": "ProgressStyleModel",
      "state": {
       "description_width": ""
      }
     },
     "470bd0c355eb4ab292272da9a9eb8307": {
      "model_module": "@jupyter-widgets/base",
      "model_module_version": "1.2.0",
      "model_name": "LayoutModel",
      "state": {}
     },
     "475707e6fb4a451f8dbd45766664ddbe": {
      "model_module": "@jupyter-widgets/controls",
      "model_module_version": "1.5.0",
      "model_name": "IntProgressModel",
      "state": {
       "bar_style": "success",
       "description": "100.00%",
       "layout": "IPY_MODEL_4d4b4360a4384c2280ced0af71858dc2",
       "max": 13,
       "style": "IPY_MODEL_c7b733ce5aad4090b44702b18b99593a",
       "value": 13
      }
     },
     "4775781655394831b084322b5828fda3": {
      "model_module": "@jupyter-widgets/controls",
      "model_module_version": "1.5.0",
      "model_name": "HBoxModel",
      "state": {
       "children": [
        "IPY_MODEL_2078d53cdc464ba3aee125bcc4fe714e",
        "IPY_MODEL_fa3346358be544b29a2d18c2e1f05a70"
       ],
       "layout": "IPY_MODEL_f3c4ab21cc5c45b89c1511a1d37b3a00"
      }
     },
     "47ae38b9b5ff4b4a998497230ccfb809": {
      "model_module": "@jupyter-widgets/controls",
      "model_module_version": "1.5.0",
      "model_name": "IntProgressModel",
      "state": {
       "bar_style": "success",
       "description": "100.00%",
       "layout": "IPY_MODEL_314bf1c668f5418db098107ff4700d18",
       "max": 12,
       "style": "IPY_MODEL_3652f616f3944100adb5c12305d5f31f",
       "value": 12
      }
     },
     "47edfd4f6c4249a7895e6d28dd12f279": {
      "model_module": "@jupyter-widgets/base",
      "model_module_version": "1.2.0",
      "model_name": "LayoutModel",
      "state": {}
     },
     "488afb10f41342dfb29a97826c3c7cae": {
      "model_module": "@jupyter-widgets/base",
      "model_module_version": "1.2.0",
      "model_name": "LayoutModel",
      "state": {}
     },
     "49124b61d895423ab7ab067c0a65330c": {
      "model_module": "@jupyter-widgets/controls",
      "model_module_version": "1.5.0",
      "model_name": "HBoxModel",
      "state": {
       "children": [
        "IPY_MODEL_47ae38b9b5ff4b4a998497230ccfb809",
        "IPY_MODEL_fed35244264f46e2879fd7ca07aa1028"
       ],
       "layout": "IPY_MODEL_02bded1c1b28409b82c5ae166a209175"
      }
     },
     "49b9568496f6492399911ab4bea8efca": {
      "model_module": "@jupyter-widgets/controls",
      "model_module_version": "1.5.0",
      "model_name": "HBoxModel",
      "state": {
       "children": [
        "IPY_MODEL_d9b3b8bdb39a42f1991861c29ff32a28",
        "IPY_MODEL_e9ecfc0f03be4029a56a53fc0212d99b"
       ],
       "layout": "IPY_MODEL_9b23d9d5992641e6af7fbb4682189ff7"
      }
     },
     "49fbab7266da4b9e8d5625327a34aa70": {
      "model_module": "@jupyter-widgets/controls",
      "model_module_version": "1.5.0",
      "model_name": "IntProgressModel",
      "state": {
       "bar_style": "success",
       "description": "100.00%",
       "layout": "IPY_MODEL_dca5878feafa409b96c798dff8666570",
       "max": 12,
       "style": "IPY_MODEL_4b6a40a1c04a4eed8e958c6480c52827",
       "value": 12
      }
     },
     "4a89669888914a8fa768a622882d0ab4": {
      "model_module": "@jupyter-widgets/controls",
      "model_module_version": "1.5.0",
      "model_name": "ProgressStyleModel",
      "state": {
       "description_width": ""
      }
     },
     "4a8982c1b0704b06a24253076975098e": {
      "model_module": "@jupyter-widgets/controls",
      "model_module_version": "1.5.0",
      "model_name": "HBoxModel",
      "state": {
       "children": [
        "IPY_MODEL_ded1acddae33494a95f8536736bfaf1b",
        "IPY_MODEL_3960777237b144b585e0a896208b6795"
       ],
       "layout": "IPY_MODEL_59a6918d07f24023925288af5a97ccad"
      }
     },
     "4aecd351547d437d905c192ddfbe1611": {
      "model_module": "@jupyter-widgets/controls",
      "model_module_version": "1.5.0",
      "model_name": "LabelModel",
      "state": {
       "layout": "IPY_MODEL_b81ff13c32fb40d3bee5b771961b8b2a",
       "style": "IPY_MODEL_8074ce9f00534537a8d6492e094c07e8",
       "value": "12 / 12"
      }
     },
     "4b1f78ed318c4839a75d3492ac255b13": {
      "model_module": "@jupyter-widgets/controls",
      "model_module_version": "1.5.0",
      "model_name": "LabelModel",
      "state": {
       "layout": "IPY_MODEL_5c1d2e27a5e94cf5bea2306b506f9506",
       "style": "IPY_MODEL_0e483ab17f5f4a4eb0147051fe99df9e",
       "value": "12 / 12"
      }
     },
     "4b6a40a1c04a4eed8e958c6480c52827": {
      "model_module": "@jupyter-widgets/controls",
      "model_module_version": "1.5.0",
      "model_name": "ProgressStyleModel",
      "state": {
       "description_width": ""
      }
     },
     "4bdc446cfafa4c31bda2a704a7968670": {
      "model_module": "@jupyter-widgets/controls",
      "model_module_version": "1.5.0",
      "model_name": "ProgressStyleModel",
      "state": {
       "description_width": ""
      }
     },
     "4c30b676949a471e95fc6277acedf448": {
      "model_module": "@jupyter-widgets/base",
      "model_module_version": "1.2.0",
      "model_name": "LayoutModel",
      "state": {}
     },
     "4c5c5c7152bf407b999bf6cea5fc5090": {
      "model_module": "@jupyter-widgets/controls",
      "model_module_version": "1.5.0",
      "model_name": "IntProgressModel",
      "state": {
       "bar_style": "success",
       "description": "100.00%",
       "layout": "IPY_MODEL_e8d8eee35e1b4d0eae59c25b9f309b2a",
       "max": 13,
       "style": "IPY_MODEL_e13e5d036f2247f898d6b12ce60ac20a",
       "value": 13
      }
     },
     "4cc6bef7538c4683826be2b832182182": {
      "model_module": "@jupyter-widgets/base",
      "model_module_version": "1.2.0",
      "model_name": "LayoutModel",
      "state": {}
     },
     "4d4b4360a4384c2280ced0af71858dc2": {
      "model_module": "@jupyter-widgets/base",
      "model_module_version": "1.2.0",
      "model_name": "LayoutModel",
      "state": {}
     },
     "4db90b3d7b064e75b9c2213f148bf46a": {
      "model_module": "@jupyter-widgets/controls",
      "model_module_version": "1.5.0",
      "model_name": "DescriptionStyleModel",
      "state": {
       "description_width": ""
      }
     },
     "4e7217fe38f2411d8c52a0fabc36fddc": {
      "model_module": "@jupyter-widgets/controls",
      "model_module_version": "1.5.0",
      "model_name": "DescriptionStyleModel",
      "state": {
       "description_width": ""
      }
     },
     "4e990eb260774770a4d4d2682b352c09": {
      "model_module": "@jupyter-widgets/controls",
      "model_module_version": "1.5.0",
      "model_name": "ProgressStyleModel",
      "state": {
       "description_width": ""
      }
     },
     "4e9de3774967403b9a4e1af481f8e755": {
      "model_module": "@jupyter-widgets/controls",
      "model_module_version": "1.5.0",
      "model_name": "ProgressStyleModel",
      "state": {
       "description_width": ""
      }
     },
     "4f173662f85643b38746e20e1d45063e": {
      "model_module": "@jupyter-widgets/base",
      "model_module_version": "1.2.0",
      "model_name": "LayoutModel",
      "state": {}
     },
     "4f522ffe957f4fae8f974ca8d04d467a": {
      "model_module": "@jupyter-widgets/controls",
      "model_module_version": "1.5.0",
      "model_name": "LabelModel",
      "state": {
       "layout": "IPY_MODEL_8f45703898ce4ca081df4ec2eb7507a3",
       "style": "IPY_MODEL_8916d51877ae4272af633780bbb07049",
       "value": "12 / 12"
      }
     },
     "4fc699e347ff4200a6b0b3fc442bd5d3": {
      "model_module": "@jupyter-widgets/controls",
      "model_module_version": "1.5.0",
      "model_name": "DescriptionStyleModel",
      "state": {
       "description_width": ""
      }
     },
     "5097e934148041e8b179b3881d7784ac": {
      "model_module": "@jupyter-widgets/controls",
      "model_module_version": "1.5.0",
      "model_name": "LabelModel",
      "state": {
       "layout": "IPY_MODEL_5ab68509e1934f22b6318fe260164702",
       "style": "IPY_MODEL_14c157272b6940d58c6edf6c49381e0a",
       "value": "13 / 13"
      }
     },
     "50e5248e2ccb4b389d04d5021ca98015": {
      "model_module": "@jupyter-widgets/base",
      "model_module_version": "1.2.0",
      "model_name": "LayoutModel",
      "state": {}
     },
     "51a91231d6f341b2bb869cc2eda7a48a": {
      "model_module": "@jupyter-widgets/base",
      "model_module_version": "1.2.0",
      "model_name": "LayoutModel",
      "state": {}
     },
     "524d480988ab4ae2ac7098b5ab7ae046": {
      "model_module": "@jupyter-widgets/base",
      "model_module_version": "1.2.0",
      "model_name": "LayoutModel",
      "state": {}
     },
     "52fb56f8a9924211aea41eb072b90f2e": {
      "model_module": "@jupyter-widgets/controls",
      "model_module_version": "1.5.0",
      "model_name": "HBoxModel",
      "state": {
       "children": [
        "IPY_MODEL_2acd97fd6aef43d4befc20309a2a54d2",
        "IPY_MODEL_05bc992fb8714c4cbb6b858467af455a"
       ],
       "layout": "IPY_MODEL_2a67a44d18a14f78af25d8722a515767"
      }
     },
     "55bda3636e524a688575762bc055191a": {
      "model_module": "@jupyter-widgets/controls",
      "model_module_version": "1.5.0",
      "model_name": "LabelModel",
      "state": {
       "layout": "IPY_MODEL_0042553a59734ae5872ce7b505a40500",
       "style": "IPY_MODEL_b5cf90b576fc457f9493060860546e90",
       "value": "13 / 13"
      }
     },
     "57ca86b6b08e4140a71c2135ae6ff529": {
      "model_module": "@jupyter-widgets/base",
      "model_module_version": "1.2.0",
      "model_name": "LayoutModel",
      "state": {}
     },
     "58a0c0f076a24cae95303f0e4db54480": {
      "model_module": "@jupyter-widgets/controls",
      "model_module_version": "1.5.0",
      "model_name": "LabelModel",
      "state": {
       "layout": "IPY_MODEL_3edf3cd4a2b7494bbd34d7baf8e38f6b",
       "style": "IPY_MODEL_d59649f82ae64689993296df5f914013",
       "value": "13 / 13"
      }
     },
     "591113e04024476194034413a0d0d4c8": {
      "model_module": "@jupyter-widgets/base",
      "model_module_version": "1.2.0",
      "model_name": "LayoutModel",
      "state": {}
     },
     "592f3ba9b5234d14af7099b1c9ca8327": {
      "model_module": "@jupyter-widgets/base",
      "model_module_version": "1.2.0",
      "model_name": "LayoutModel",
      "state": {}
     },
     "59a6918d07f24023925288af5a97ccad": {
      "model_module": "@jupyter-widgets/base",
      "model_module_version": "1.2.0",
      "model_name": "LayoutModel",
      "state": {}
     },
     "5a6b281b91f64d5ea5077bbda3d70ed8": {
      "model_module": "@jupyter-widgets/controls",
      "model_module_version": "1.5.0",
      "model_name": "IntProgressModel",
      "state": {
       "bar_style": "success",
       "description": "100.00%",
       "layout": "IPY_MODEL_b6435fa968da4d4cbebde1d36c89877d",
       "max": 13,
       "style": "IPY_MODEL_cf4c34b9244d42febaa53f7967ee92cb",
       "value": 13
      }
     },
     "5a7cdff46f784d2d98404dcd6dd5cadc": {
      "model_module": "@jupyter-widgets/controls",
      "model_module_version": "1.5.0",
      "model_name": "IntProgressModel",
      "state": {
       "bar_style": "success",
       "description": "100.00%",
       "layout": "IPY_MODEL_96c88cb6a8204d9098b23975fe6e2350",
       "max": 12,
       "style": "IPY_MODEL_6c18e1ea9a984824939da2baefcbd47a",
       "value": 12
      }
     },
     "5ab68509e1934f22b6318fe260164702": {
      "model_module": "@jupyter-widgets/base",
      "model_module_version": "1.2.0",
      "model_name": "LayoutModel",
      "state": {}
     },
     "5b3353b492554510a62d8a49df0ee585": {
      "model_module": "@jupyter-widgets/controls",
      "model_module_version": "1.5.0",
      "model_name": "IntProgressModel",
      "state": {
       "bar_style": "success",
       "description": "100.00%",
       "layout": "IPY_MODEL_ebe086e0aa194d59a44fc1d0767627ff",
       "max": 13,
       "style": "IPY_MODEL_0d6e0f2a7d31402fb0e9465b6c8cf2ef",
       "value": 13
      }
     },
     "5c1d2e27a5e94cf5bea2306b506f9506": {
      "model_module": "@jupyter-widgets/base",
      "model_module_version": "1.2.0",
      "model_name": "LayoutModel",
      "state": {}
     },
     "5d1428f540ac45418b2efea38288898d": {
      "model_module": "@jupyter-widgets/controls",
      "model_module_version": "1.5.0",
      "model_name": "IntProgressModel",
      "state": {
       "bar_style": "success",
       "description": "100.00%",
       "layout": "IPY_MODEL_dd0ac27f72ac435486e25640c04fad5f",
       "max": 13,
       "style": "IPY_MODEL_1ec1c81b4d6f4db6a1917e7c487f326d",
       "value": 13
      }
     },
     "5d4d18570c6440279a5ce066d4717c1b": {
      "model_module": "@jupyter-widgets/base",
      "model_module_version": "1.2.0",
      "model_name": "LayoutModel",
      "state": {}
     },
     "5d9c1f6637f041f9999af01bad7ca9f3": {
      "model_module": "@jupyter-widgets/controls",
      "model_module_version": "1.5.0",
      "model_name": "HBoxModel",
      "state": {
       "children": [
        "IPY_MODEL_f29fef48443c4a698b41181c5bd6e4f8",
        "IPY_MODEL_14e206bf99c0402597f5c43985cf6abc"
       ],
       "layout": "IPY_MODEL_2a75e29a592644acbb9a626e99b6805c"
      }
     },
     "5e74e8c03f364aa7a061465be353229e": {
      "model_module": "@jupyter-widgets/controls",
      "model_module_version": "1.5.0",
      "model_name": "IntProgressModel",
      "state": {
       "bar_style": "success",
       "description": "100.00%",
       "layout": "IPY_MODEL_16ce751283cf4990a9096a38fe61a6f1",
       "max": 12,
       "style": "IPY_MODEL_7854dc48ae5248148e6db3bfc6606622",
       "value": 12
      }
     },
     "5f4d85169eb2409499e9ada10d0b74e1": {
      "model_module": "@jupyter-widgets/controls",
      "model_module_version": "1.5.0",
      "model_name": "DescriptionStyleModel",
      "state": {
       "description_width": ""
      }
     },
     "5fb2a6138e5945bb8f8a2e8ab58f72c2": {
      "model_module": "@jupyter-widgets/controls",
      "model_module_version": "1.5.0",
      "model_name": "ProgressStyleModel",
      "state": {
       "description_width": ""
      }
     },
     "5fc292df55b84dacbbd2ad1776c8015c": {
      "model_module": "@jupyter-widgets/controls",
      "model_module_version": "1.5.0",
      "model_name": "IntProgressModel",
      "state": {
       "bar_style": "success",
       "description": "100.00%",
       "layout": "IPY_MODEL_6e1183421bac4ae9ba69956b1c6936e5",
       "max": 12,
       "style": "IPY_MODEL_e89de5cbc36345c4b2d256f3a8b7c0a1",
       "value": 12
      }
     },
     "6011a6618ce24cc79f4e8668e237e0ff": {
      "model_module": "@jupyter-widgets/controls",
      "model_module_version": "1.5.0",
      "model_name": "DescriptionStyleModel",
      "state": {
       "description_width": ""
      }
     },
     "602467324b9d404bb5b91828ce4b3bb2": {
      "model_module": "@jupyter-widgets/base",
      "model_module_version": "1.2.0",
      "model_name": "LayoutModel",
      "state": {}
     },
     "60471ad3a9004594bff49ea2a072200d": {
      "model_module": "@jupyter-widgets/controls",
      "model_module_version": "1.5.0",
      "model_name": "ProgressStyleModel",
      "state": {
       "description_width": ""
      }
     },
     "609c97ee77474e40beb608f3664772e2": {
      "model_module": "@jupyter-widgets/controls",
      "model_module_version": "1.5.0",
      "model_name": "LabelModel",
      "state": {
       "layout": "IPY_MODEL_9999a1d0728340d7aee8ddee65d9cc24",
       "style": "IPY_MODEL_7af9eb5973324d93bf8d1d383c5170b6",
       "value": "12 / 12"
      }
     },
     "60a90fbeee0e494aab78d5000fba0f6e": {
      "model_module": "@jupyter-widgets/base",
      "model_module_version": "1.2.0",
      "model_name": "LayoutModel",
      "state": {}
     },
     "634ce9d77fb044149678505b54f38f95": {
      "model_module": "@jupyter-widgets/controls",
      "model_module_version": "1.5.0",
      "model_name": "DescriptionStyleModel",
      "state": {
       "description_width": ""
      }
     },
     "63feb30e6dc3466c8881a4894b6d82c9": {
      "model_module": "@jupyter-widgets/controls",
      "model_module_version": "1.5.0",
      "model_name": "HBoxModel",
      "state": {
       "children": [
        "IPY_MODEL_8f5839ef0ad142b49902f0fbb0f7756c",
        "IPY_MODEL_74842e6decd546aaa1978bb30d42610a"
       ],
       "layout": "IPY_MODEL_51a91231d6f341b2bb869cc2eda7a48a"
      }
     },
     "645f7cab7f7e4e41abc5f5ff481cfbab": {
      "model_module": "@jupyter-widgets/controls",
      "model_module_version": "1.5.0",
      "model_name": "DescriptionStyleModel",
      "state": {
       "description_width": ""
      }
     },
     "647171e3a4534bbfaa2cf91d91f9a54c": {
      "model_module": "@jupyter-widgets/controls",
      "model_module_version": "1.5.0",
      "model_name": "DescriptionStyleModel",
      "state": {
       "description_width": ""
      }
     },
     "64ae7fdc6fb94887aeefe730bcfcd511": {
      "model_module": "@jupyter-widgets/controls",
      "model_module_version": "1.5.0",
      "model_name": "HBoxModel",
      "state": {
       "children": [
        "IPY_MODEL_08634438348b4d87a32b140014b932d3",
        "IPY_MODEL_6570b9cdc98b4a10a0c640d657c7498d"
       ],
       "layout": "IPY_MODEL_3014e4240ac947a2b9ba92c8811cddf5"
      }
     },
     "6512f5a7d1c2465593b51513e9f5e101": {
      "model_module": "@jupyter-widgets/base",
      "model_module_version": "1.2.0",
      "model_name": "LayoutModel",
      "state": {}
     },
     "6570b9cdc98b4a10a0c640d657c7498d": {
      "model_module": "@jupyter-widgets/controls",
      "model_module_version": "1.5.0",
      "model_name": "LabelModel",
      "state": {
       "layout": "IPY_MODEL_db68537f98f646dc809e4b2ad264ceaf",
       "style": "IPY_MODEL_37e92c50a13f4715a32a57573f333a51",
       "value": "12 / 12"
      }
     },
     "674b0697c8a54951bf2252c0f3ba737b": {
      "model_module": "@jupyter-widgets/controls",
      "model_module_version": "1.5.0",
      "model_name": "DescriptionStyleModel",
      "state": {
       "description_width": ""
      }
     },
     "68cea45db7404f9f9244ba6d68f6412b": {
      "model_module": "@jupyter-widgets/controls",
      "model_module_version": "1.5.0",
      "model_name": "IntProgressModel",
      "state": {
       "bar_style": "success",
       "description": "100.00%",
       "layout": "IPY_MODEL_239c555feb0a406db45d4e2dff6e6d4a",
       "max": 12,
       "style": "IPY_MODEL_07120ebca58e4313a1ee2c77aab3e47d",
       "value": 12
      }
     },
     "694a0fce948447e98a7b23b6a74b0786": {
      "model_module": "@jupyter-widgets/base",
      "model_module_version": "1.2.0",
      "model_name": "LayoutModel",
      "state": {}
     },
     "69dfe87511d0470381bbbd624703e8ec": {
      "model_module": "@jupyter-widgets/controls",
      "model_module_version": "1.5.0",
      "model_name": "DescriptionStyleModel",
      "state": {
       "description_width": ""
      }
     },
     "6a1cfe1d1ffc4405a8d94d220d6585c0": {
      "model_module": "@jupyter-widgets/controls",
      "model_module_version": "1.5.0",
      "model_name": "ProgressStyleModel",
      "state": {
       "description_width": ""
      }
     },
     "6ad562c2cd2a4c4bb6f965a4f717c682": {
      "model_module": "@jupyter-widgets/base",
      "model_module_version": "1.2.0",
      "model_name": "LayoutModel",
      "state": {}
     },
     "6bdef3fa6b1645eb841bdaaf7dc990fa": {
      "model_module": "@jupyter-widgets/controls",
      "model_module_version": "1.5.0",
      "model_name": "IntProgressModel",
      "state": {
       "bar_style": "success",
       "description": "100.00%",
       "layout": "IPY_MODEL_44aa334eafe74b49a8ab5692998af495",
       "max": 12,
       "style": "IPY_MODEL_1a40eb09e5d846c09c9558514b565427",
       "value": 12
      }
     },
     "6c18e1ea9a984824939da2baefcbd47a": {
      "model_module": "@jupyter-widgets/controls",
      "model_module_version": "1.5.0",
      "model_name": "ProgressStyleModel",
      "state": {
       "description_width": ""
      }
     },
     "6c201ab54d4747b0b91a2f001129cc3f": {
      "model_module": "@jupyter-widgets/controls",
      "model_module_version": "1.5.0",
      "model_name": "IntProgressModel",
      "state": {
       "bar_style": "success",
       "description": "100.00%",
       "layout": "IPY_MODEL_7d73cf0a76b5459ab521180277b067ea",
       "max": 12,
       "style": "IPY_MODEL_6a1cfe1d1ffc4405a8d94d220d6585c0",
       "value": 12
      }
     },
     "6d1a6f2d2a4c4edfb826a7aa219cca7f": {
      "model_module": "@jupyter-widgets/base",
      "model_module_version": "1.2.0",
      "model_name": "LayoutModel",
      "state": {}
     },
     "6db95a5341b646649425ec34f93ba3b5": {
      "model_module": "@jupyter-widgets/base",
      "model_module_version": "1.2.0",
      "model_name": "LayoutModel",
      "state": {}
     },
     "6e1183421bac4ae9ba69956b1c6936e5": {
      "model_module": "@jupyter-widgets/base",
      "model_module_version": "1.2.0",
      "model_name": "LayoutModel",
      "state": {}
     },
     "6ec7bb0eb8144582ae3573b85579cec6": {
      "model_module": "@jupyter-widgets/base",
      "model_module_version": "1.2.0",
      "model_name": "LayoutModel",
      "state": {}
     },
     "6eea9129049a40ff9e6e43e1251f4670": {
      "model_module": "@jupyter-widgets/controls",
      "model_module_version": "1.5.0",
      "model_name": "ProgressStyleModel",
      "state": {
       "description_width": ""
      }
     },
     "7049f9dc0e1f431a9ce3882811b74056": {
      "model_module": "@jupyter-widgets/controls",
      "model_module_version": "1.5.0",
      "model_name": "HBoxModel",
      "state": {
       "children": [
        "IPY_MODEL_7669e18bccf74ec7b23d03fd49c24c0e",
        "IPY_MODEL_36486e4baab94f13917b82e94b792808"
       ],
       "layout": "IPY_MODEL_b78c25e766034da49605c76e9e4963db"
      }
     },
     "717dd02d6ae24583900d6995d65b28b8": {
      "model_module": "@jupyter-widgets/controls",
      "model_module_version": "1.5.0",
      "model_name": "ProgressStyleModel",
      "state": {
       "description_width": ""
      }
     },
     "725f54a979d54382a45ad798e2a8bf47": {
      "model_module": "@jupyter-widgets/base",
      "model_module_version": "1.2.0",
      "model_name": "LayoutModel",
      "state": {}
     },
     "72830fddb2ad47fe89cb9ab67f9ae762": {
      "model_module": "@jupyter-widgets/controls",
      "model_module_version": "1.5.0",
      "model_name": "DescriptionStyleModel",
      "state": {
       "description_width": ""
      }
     },
     "738869c9ab5e4525ad6b4c8a68792323": {
      "model_module": "@jupyter-widgets/controls",
      "model_module_version": "1.5.0",
      "model_name": "LabelModel",
      "state": {
       "layout": "IPY_MODEL_b5e35c673feb4d0f92886a4d031532c0",
       "style": "IPY_MODEL_9f0a16361246495b8a4fdb910c969eea",
       "value": "13 / 13"
      }
     },
     "74842e6decd546aaa1978bb30d42610a": {
      "model_module": "@jupyter-widgets/controls",
      "model_module_version": "1.5.0",
      "model_name": "LabelModel",
      "state": {
       "layout": "IPY_MODEL_a66e61e3ed21488a95b681fb97155bb3",
       "style": "IPY_MODEL_9281800bf03143248e29de6aa8f453f4",
       "value": "12 / 12"
      }
     },
     "752f17aa798f4164b596122da06cf102": {
      "model_module": "@jupyter-widgets/controls",
      "model_module_version": "1.5.0",
      "model_name": "ProgressStyleModel",
      "state": {
       "description_width": ""
      }
     },
     "7563e6e410d7467cadfac4f8d80a2bab": {
      "model_module": "@jupyter-widgets/base",
      "model_module_version": "1.2.0",
      "model_name": "LayoutModel",
      "state": {}
     },
     "75d71a771d744239ac8cb41b5f53e105": {
      "model_module": "@jupyter-widgets/controls",
      "model_module_version": "1.5.0",
      "model_name": "HBoxModel",
      "state": {
       "children": [
        "IPY_MODEL_42e6a87b7b714c5dbff62d846aa40cd2",
        "IPY_MODEL_738869c9ab5e4525ad6b4c8a68792323"
       ],
       "layout": "IPY_MODEL_c320fc2965714b8a97c6e158354027c3"
      }
     },
     "7669e18bccf74ec7b23d03fd49c24c0e": {
      "model_module": "@jupyter-widgets/controls",
      "model_module_version": "1.5.0",
      "model_name": "IntProgressModel",
      "state": {
       "bar_style": "success",
       "description": "100.00%",
       "layout": "IPY_MODEL_0e5d090b16d24b9a8199d7b689d1d2bc",
       "max": 13,
       "style": "IPY_MODEL_4e9de3774967403b9a4e1af481f8e755",
       "value": 13
      }
     },
     "76b6d0db32784adda252a54f8cc0c7c0": {
      "model_module": "@jupyter-widgets/controls",
      "model_module_version": "1.5.0",
      "model_name": "HBoxModel",
      "state": {
       "children": [
        "IPY_MODEL_4c5c5c7152bf407b999bf6cea5fc5090",
        "IPY_MODEL_1ca110030f2248498748e0d18fc7ec72"
       ],
       "layout": "IPY_MODEL_a10fe327b1e34ca0812242ea7bea82b3"
      }
     },
     "76d008c1fb0942ef9d287fb305ad115f": {
      "model_module": "@jupyter-widgets/controls",
      "model_module_version": "1.5.0",
      "model_name": "LabelModel",
      "state": {
       "layout": "IPY_MODEL_ca0902ba2ed947f793a7534173a7e453",
       "style": "IPY_MODEL_8eabc11f49e2428198488b688b210259",
       "value": "12 / 12"
      }
     },
     "7749d4aca9784b8bb62bc7221c05b489": {
      "model_module": "@jupyter-widgets/controls",
      "model_module_version": "1.5.0",
      "model_name": "HBoxModel",
      "state": {
       "children": [
        "IPY_MODEL_5a6b281b91f64d5ea5077bbda3d70ed8",
        "IPY_MODEL_e5a81503fd6f470daaa53d07da19e142"
       ],
       "layout": "IPY_MODEL_99293538c98346fda783e79f98deb686"
      }
     },
     "7755aca8221340aea29dce7bbf019fec": {
      "model_module": "@jupyter-widgets/controls",
      "model_module_version": "1.5.0",
      "model_name": "DescriptionStyleModel",
      "state": {
       "description_width": ""
      }
     },
     "7821eb33d9ca4b1392e65a5924906e81": {
      "model_module": "@jupyter-widgets/controls",
      "model_module_version": "1.5.0",
      "model_name": "IntProgressModel",
      "state": {
       "bar_style": "success",
       "description": "100.00%",
       "layout": "IPY_MODEL_b31f1c7f0a4a4b45b8a62e4e8001f24c",
       "max": 12,
       "style": "IPY_MODEL_03d9f66d407d4e44a05eb438c18d3012",
       "value": 12
      }
     },
     "7854dc48ae5248148e6db3bfc6606622": {
      "model_module": "@jupyter-widgets/controls",
      "model_module_version": "1.5.0",
      "model_name": "ProgressStyleModel",
      "state": {
       "description_width": ""
      }
     },
     "78d770d2c5cd4c0284a190cbfac1f2d0": {
      "model_module": "@jupyter-widgets/controls",
      "model_module_version": "1.5.0",
      "model_name": "HBoxModel",
      "state": {
       "children": [
        "IPY_MODEL_1c87d30b14d34e519a3a31ca4e6afbdd",
        "IPY_MODEL_2b34d7903be54063897e15cf8a0859e0",
        "IPY_MODEL_31c8c0777b694e369f9de7d94590bb66"
       ],
       "layout": "IPY_MODEL_591113e04024476194034413a0d0d4c8"
      }
     },
     "794ec17faa964cccbe655c89b7efa398": {
      "model_module": "@jupyter-widgets/base",
      "model_module_version": "1.2.0",
      "model_name": "LayoutModel",
      "state": {}
     },
     "7a0d85c185b24d59935f3fddf7d9f0af": {
      "model_module": "@jupyter-widgets/controls",
      "model_module_version": "1.5.0",
      "model_name": "IntProgressModel",
      "state": {
       "bar_style": "success",
       "description": "100.00%",
       "layout": "IPY_MODEL_4f173662f85643b38746e20e1d45063e",
       "max": 13,
       "style": "IPY_MODEL_ab8a163675194a05bd636e01d6dbe386",
       "value": 13
      }
     },
     "7a4089ed49ba412fb48577ae10efdd38": {
      "model_module": "@jupyter-widgets/base",
      "model_module_version": "1.2.0",
      "model_name": "LayoutModel",
      "state": {}
     },
     "7a4179c4d9684c93ae0d7e3e039b28a5": {
      "model_module": "@jupyter-widgets/controls",
      "model_module_version": "1.5.0",
      "model_name": "HBoxModel",
      "state": {
       "children": [
        "IPY_MODEL_5a7cdff46f784d2d98404dcd6dd5cadc",
        "IPY_MODEL_b9d34ea400704ecf862439e60eef5579"
       ],
       "layout": "IPY_MODEL_80b149a43bb64d649e4c58316ae8cba5"
      }
     },
     "7a6bdbb06d774979894b00aedc722d8c": {
      "model_module": "@jupyter-widgets/controls",
      "model_module_version": "1.5.0",
      "model_name": "LabelModel",
      "state": {
       "layout": "IPY_MODEL_9be2b5e284f247448f530b087a11cd00",
       "style": "IPY_MODEL_7aee3231f5194f7aae3df4d74df5d619",
       "value": "12 / 12"
      }
     },
     "7aee3231f5194f7aae3df4d74df5d619": {
      "model_module": "@jupyter-widgets/controls",
      "model_module_version": "1.5.0",
      "model_name": "DescriptionStyleModel",
      "state": {
       "description_width": ""
      }
     },
     "7af9eb5973324d93bf8d1d383c5170b6": {
      "model_module": "@jupyter-widgets/controls",
      "model_module_version": "1.5.0",
      "model_name": "DescriptionStyleModel",
      "state": {
       "description_width": ""
      }
     },
     "7b6230c32e9a4700a6d4242d838c8677": {
      "model_module": "@jupyter-widgets/controls",
      "model_module_version": "1.5.0",
      "model_name": "DescriptionStyleModel",
      "state": {
       "description_width": ""
      }
     },
     "7c6c2ce5c7894ed6abdd9e4e16f308cc": {
      "model_module": "@jupyter-widgets/base",
      "model_module_version": "1.2.0",
      "model_name": "LayoutModel",
      "state": {}
     },
     "7c87b8a96b034a37810434ad74aae74a": {
      "model_module": "@jupyter-widgets/base",
      "model_module_version": "1.2.0",
      "model_name": "LayoutModel",
      "state": {}
     },
     "7d73cf0a76b5459ab521180277b067ea": {
      "model_module": "@jupyter-widgets/base",
      "model_module_version": "1.2.0",
      "model_name": "LayoutModel",
      "state": {}
     },
     "7eaa7aae68bd49008818f2a44d19c187": {
      "model_module": "@jupyter-widgets/base",
      "model_module_version": "1.2.0",
      "model_name": "LayoutModel",
      "state": {}
     },
     "7eb9321651c04ae7ad7547416878f03e": {
      "model_module": "@jupyter-widgets/controls",
      "model_module_version": "1.5.0",
      "model_name": "DescriptionStyleModel",
      "state": {
       "description_width": ""
      }
     },
     "8074ce9f00534537a8d6492e094c07e8": {
      "model_module": "@jupyter-widgets/controls",
      "model_module_version": "1.5.0",
      "model_name": "DescriptionStyleModel",
      "state": {
       "description_width": ""
      }
     },
     "80b149a43bb64d649e4c58316ae8cba5": {
      "model_module": "@jupyter-widgets/base",
      "model_module_version": "1.2.0",
      "model_name": "LayoutModel",
      "state": {}
     },
     "814d4d0fc7ec48a7a0f51e97ee3dae37": {
      "model_module": "@jupyter-widgets/base",
      "model_module_version": "1.2.0",
      "model_name": "LayoutModel",
      "state": {}
     },
     "81f93b76d92443b19015dbe080861ee1": {
      "model_module": "@jupyter-widgets/controls",
      "model_module_version": "1.5.0",
      "model_name": "IntProgressModel",
      "state": {
       "bar_style": "success",
       "description": "100.00%",
       "layout": "IPY_MODEL_47edfd4f6c4249a7895e6d28dd12f279",
       "max": 13,
       "style": "IPY_MODEL_342b43daa14c40ee867764ae05fcc302",
       "value": 13
      }
     },
     "8267022393b24692af4e41fd8c9aed9d": {
      "model_module": "@jupyter-widgets/base",
      "model_module_version": "1.2.0",
      "model_name": "LayoutModel",
      "state": {}
     },
     "8301fbe6274246a6b32fa2cdc60bb881": {
      "model_module": "@jupyter-widgets/base",
      "model_module_version": "1.2.0",
      "model_name": "LayoutModel",
      "state": {}
     },
     "850ad513c94a4af09c897cf9a720f3f2": {
      "model_module": "@jupyter-widgets/controls",
      "model_module_version": "1.5.0",
      "model_name": "IntProgressModel",
      "state": {
       "bar_style": "success",
       "description": "100.00%",
       "layout": "IPY_MODEL_b15382bcb2d649e18d9aff25a126d6ef",
       "max": 12,
       "style": "IPY_MODEL_d8c7a68908db475ca210f984bb691766",
       "value": 12
      }
     },
     "8582cbc2a3fd48d0a60c4ba016242c21": {
      "model_module": "@jupyter-widgets/base",
      "model_module_version": "1.2.0",
      "model_name": "LayoutModel",
      "state": {}
     },
     "8630355fc7b1423983a66f298cc03e11": {
      "model_module": "@jupyter-widgets/controls",
      "model_module_version": "1.5.0",
      "model_name": "LabelModel",
      "state": {
       "layout": "IPY_MODEL_dce1cf55db8f46e5bb2d944c6fee8e96",
       "style": "IPY_MODEL_1ae804be18fa4cdebfc44c7af02e1784",
       "value": "12 / 12"
      }
     },
     "869ce1f9686746f0909eccd5200281a1": {
      "model_module": "@jupyter-widgets/controls",
      "model_module_version": "1.5.0",
      "model_name": "HBoxModel",
      "state": {
       "children": [
        "IPY_MODEL_220e593a69714eb99cfbccaae910d553",
        "IPY_MODEL_b76b1e21fc1f4d56be920155f96f279b"
       ],
       "layout": "IPY_MODEL_3410f0fcc0e04281ade3b623db4057f1"
      }
     },
     "86f497603b064438815f63bb2aa8fb63": {
      "model_module": "@jupyter-widgets/controls",
      "model_module_version": "1.5.0",
      "model_name": "HBoxModel",
      "state": {
       "children": [
        "IPY_MODEL_24b73d81b45d447ba1170409d8fe524c",
        "IPY_MODEL_d2927214211e4256a3ee7d02eea9a98a"
       ],
       "layout": "IPY_MODEL_30eb6add897840a796dd8527b0359181"
      }
     },
     "8776630de93d4933a4b1b48889a9e602": {
      "model_module": "@jupyter-widgets/controls",
      "model_module_version": "1.5.0",
      "model_name": "ProgressStyleModel",
      "state": {
       "description_width": ""
      }
     },
     "88322be759f34de48b4df83f19ec268f": {
      "model_module": "@jupyter-widgets/controls",
      "model_module_version": "1.5.0",
      "model_name": "DescriptionStyleModel",
      "state": {
       "description_width": ""
      }
     },
     "88ae2231f6d8409f80b3d5941e135543": {
      "model_module": "@jupyter-widgets/controls",
      "model_module_version": "1.5.0",
      "model_name": "LabelModel",
      "state": {
       "layout": "IPY_MODEL_31aa3685abb94526b07f684c34ba0fd7",
       "style": "IPY_MODEL_4fc699e347ff4200a6b0b3fc442bd5d3",
       "value": "12 / 12"
      }
     },
     "8902e39dcac948369c392f663c176286": {
      "model_module": "@jupyter-widgets/base",
      "model_module_version": "1.2.0",
      "model_name": "LayoutModel",
      "state": {}
     },
     "8916d51877ae4272af633780bbb07049": {
      "model_module": "@jupyter-widgets/controls",
      "model_module_version": "1.5.0",
      "model_name": "DescriptionStyleModel",
      "state": {
       "description_width": ""
      }
     },
     "895104e0ad4946caa371c0f826dce2e8": {
      "model_module": "@jupyter-widgets/controls",
      "model_module_version": "1.5.0",
      "model_name": "DescriptionStyleModel",
      "state": {
       "description_width": ""
      }
     },
     "8a71f250fe2e4d3b889b703ff7213ded": {
      "model_module": "@jupyter-widgets/controls",
      "model_module_version": "1.5.0",
      "model_name": "HBoxModel",
      "state": {
       "children": [
        "IPY_MODEL_94cd5d7dac914e7c900c44997fd738dc",
        "IPY_MODEL_bd273875fb634a70bb8e5005329289f3"
       ],
       "layout": "IPY_MODEL_5d4d18570c6440279a5ce066d4717c1b"
      }
     },
     "8b09bc47b0ac44e18e9421637a8c8635": {
      "model_module": "@jupyter-widgets/controls",
      "model_module_version": "1.5.0",
      "model_name": "IntProgressModel",
      "state": {
       "bar_style": "success",
       "description": "100.00%",
       "layout": "IPY_MODEL_8b4ad88eaf58424d90315ea386154000",
       "max": 12,
       "style": "IPY_MODEL_ba088a07a82149639dda9f2e54afb153",
       "value": 12
      }
     },
     "8b4ad88eaf58424d90315ea386154000": {
      "model_module": "@jupyter-widgets/base",
      "model_module_version": "1.2.0",
      "model_name": "LayoutModel",
      "state": {}
     },
     "8c492369ebf84d988fb6dde86eda3c21": {
      "model_module": "@jupyter-widgets/controls",
      "model_module_version": "1.5.0",
      "model_name": "IntProgressModel",
      "state": {
       "bar_style": "success",
       "description": "100.00%",
       "layout": "IPY_MODEL_31e12f4adeae49c69c35b86981ffbff8",
       "max": 13,
       "style": "IPY_MODEL_a7fed7398b884013ae38faa0943b5de2",
       "value": 13
      }
     },
     "8c87c118460048289d79fd4280a1f261": {
      "model_module": "@jupyter-widgets/controls",
      "model_module_version": "1.5.0",
      "model_name": "HBoxModel",
      "state": {
       "children": [
        "IPY_MODEL_b6fe6a740a0547a9b4765cc86dc0c71b",
        "IPY_MODEL_b2ad3d1ff7c04efeae0643813eb1bdb0"
       ],
       "layout": "IPY_MODEL_c8f781800421463da9bd652e974ba36c"
      }
     },
     "8ca5a85d68ad4c2b88f00a1578a17df5": {
      "model_module": "@jupyter-widgets/controls",
      "model_module_version": "1.5.0",
      "model_name": "ProgressStyleModel",
      "state": {
       "description_width": ""
      }
     },
     "8cd1210e0582408d96db8dc80cdbac03": {
      "model_module": "@jupyter-widgets/base",
      "model_module_version": "1.2.0",
      "model_name": "LayoutModel",
      "state": {}
     },
     "8d4e108c672e4469bf79cfc8236c0344": {
      "model_module": "@jupyter-widgets/base",
      "model_module_version": "1.2.0",
      "model_name": "LayoutModel",
      "state": {}
     },
     "8dc63486cc0247c6a625208db24a35c1": {
      "model_module": "@jupyter-widgets/controls",
      "model_module_version": "1.5.0",
      "model_name": "IntProgressModel",
      "state": {
       "bar_style": "success",
       "description": "100.00%",
       "layout": "IPY_MODEL_7eaa7aae68bd49008818f2a44d19c187",
       "max": 12,
       "style": "IPY_MODEL_ce5974d69c644a93b8353733e94c3812",
       "value": 12
      }
     },
     "8e28e9246d0145a39a73be67a84ba6dc": {
      "model_module": "@jupyter-widgets/controls",
      "model_module_version": "1.5.0",
      "model_name": "ProgressStyleModel",
      "state": {
       "description_width": ""
      }
     },
     "8e3223e67fe641b2b76904bfcc269a4c": {
      "model_module": "@jupyter-widgets/controls",
      "model_module_version": "1.5.0",
      "model_name": "ProgressStyleModel",
      "state": {
       "description_width": ""
      }
     },
     "8e3f343cc4264c78b05dfb80c5039103": {
      "model_module": "@jupyter-widgets/base",
      "model_module_version": "1.2.0",
      "model_name": "LayoutModel",
      "state": {}
     },
     "8e47e7de2c0c4ac7a5a1f418dca19293": {
      "model_module": "@jupyter-widgets/base",
      "model_module_version": "1.2.0",
      "model_name": "LayoutModel",
      "state": {}
     },
     "8eabc11f49e2428198488b688b210259": {
      "model_module": "@jupyter-widgets/controls",
      "model_module_version": "1.5.0",
      "model_name": "DescriptionStyleModel",
      "state": {
       "description_width": ""
      }
     },
     "8f45703898ce4ca081df4ec2eb7507a3": {
      "model_module": "@jupyter-widgets/base",
      "model_module_version": "1.2.0",
      "model_name": "LayoutModel",
      "state": {}
     },
     "8f4d88f8149d442c8ddf94e0293b444b": {
      "model_module": "@jupyter-widgets/base",
      "model_module_version": "1.2.0",
      "model_name": "LayoutModel",
      "state": {}
     },
     "8f5839ef0ad142b49902f0fbb0f7756c": {
      "model_module": "@jupyter-widgets/controls",
      "model_module_version": "1.5.0",
      "model_name": "IntProgressModel",
      "state": {
       "bar_style": "success",
       "description": "100.00%",
       "layout": "IPY_MODEL_eb8288c93b804d0bbf7ef08094652351",
       "max": 12,
       "style": "IPY_MODEL_9e6c8bfa67b84f77852970e33903f015",
       "value": 12
      }
     },
     "911bfa654b27442b9aa904ca522d44ca": {
      "model_module": "@jupyter-widgets/controls",
      "model_module_version": "1.5.0",
      "model_name": "LabelModel",
      "state": {
       "layout": "IPY_MODEL_b8af18b208d84c03b660093eea3053dd",
       "style": "IPY_MODEL_69dfe87511d0470381bbbd624703e8ec",
       "value": "12 / 12"
      }
     },
     "9281800bf03143248e29de6aa8f453f4": {
      "model_module": "@jupyter-widgets/controls",
      "model_module_version": "1.5.0",
      "model_name": "DescriptionStyleModel",
      "state": {
       "description_width": ""
      }
     },
     "935efe5066c54ae7ad507213c856f764": {
      "model_module": "@jupyter-widgets/base",
      "model_module_version": "1.2.0",
      "model_name": "LayoutModel",
      "state": {}
     },
     "93c161d686c447f6bd3cb76e17b861f2": {
      "model_module": "@jupyter-widgets/controls",
      "model_module_version": "1.5.0",
      "model_name": "DescriptionStyleModel",
      "state": {
       "description_width": ""
      }
     },
     "946e777291f74fc9a0a7e8adaef1dd5f": {
      "model_module": "@jupyter-widgets/base",
      "model_module_version": "1.2.0",
      "model_name": "LayoutModel",
      "state": {}
     },
     "94cd5d7dac914e7c900c44997fd738dc": {
      "model_module": "@jupyter-widgets/controls",
      "model_module_version": "1.5.0",
      "model_name": "IntProgressModel",
      "state": {
       "bar_style": "success",
       "description": "100.00%",
       "layout": "IPY_MODEL_ecf6e53fb0b54acab6d97ad479c8a1b2",
       "max": 12,
       "style": "IPY_MODEL_f3875a26e3604207a2329585b77ccb05",
       "value": 12
      }
     },
     "96173d719c8a4bf6a9d6ad0fab2870e0": {
      "model_module": "@jupyter-widgets/controls",
      "model_module_version": "1.5.0",
      "model_name": "IntProgressModel",
      "state": {
       "bar_style": "success",
       "description": "100.00%",
       "layout": "IPY_MODEL_8cd1210e0582408d96db8dc80cdbac03",
       "max": 13,
       "style": "IPY_MODEL_4a89669888914a8fa768a622882d0ab4",
       "value": 13
      }
     },
     "9695f19e86eb41a7bb7c43dc76ad7617": {
      "model_module": "@jupyter-widgets/controls",
      "model_module_version": "1.5.0",
      "model_name": "LabelModel",
      "state": {
       "layout": "IPY_MODEL_935efe5066c54ae7ad507213c856f764",
       "style": "IPY_MODEL_31d5d49f2dcb4633ab4aac8ab657ca46",
       "value": "12 / 12"
      }
     },
     "96a45035242f4a40aa2e80e63da8e128": {
      "model_module": "@jupyter-widgets/controls",
      "model_module_version": "1.5.0",
      "model_name": "DescriptionStyleModel",
      "state": {
       "description_width": ""
      }
     },
     "96c88cb6a8204d9098b23975fe6e2350": {
      "model_module": "@jupyter-widgets/base",
      "model_module_version": "1.2.0",
      "model_name": "LayoutModel",
      "state": {}
     },
     "96cdbcb8b9ae4e5ba676ca2134bb1cfa": {
      "model_module": "@jupyter-widgets/controls",
      "model_module_version": "1.5.0",
      "model_name": "HBoxModel",
      "state": {
       "children": [
        "IPY_MODEL_fb1dcdbd7f0b4837810db37f78e5053d",
        "IPY_MODEL_c54d276ef7364defbc0516922a72645f"
       ],
       "layout": "IPY_MODEL_c7662c8b8e43482b87f484231aa09ed1"
      }
     },
     "96ec7ad5794849b9bb4bfdb3be5972ab": {
      "model_module": "@jupyter-widgets/base",
      "model_module_version": "1.2.0",
      "model_name": "LayoutModel",
      "state": {}
     },
     "99293538c98346fda783e79f98deb686": {
      "model_module": "@jupyter-widgets/base",
      "model_module_version": "1.2.0",
      "model_name": "LayoutModel",
      "state": {}
     },
     "994ae356dfcd4d26b7fdb878675256b9": {
      "model_module": "@jupyter-widgets/controls",
      "model_module_version": "1.5.0",
      "model_name": "DescriptionStyleModel",
      "state": {
       "description_width": ""
      }
     },
     "9999a1d0728340d7aee8ddee65d9cc24": {
      "model_module": "@jupyter-widgets/base",
      "model_module_version": "1.2.0",
      "model_name": "LayoutModel",
      "state": {}
     },
     "9b207326686d4e099c7ad434e0422771": {
      "model_module": "@jupyter-widgets/base",
      "model_module_version": "1.2.0",
      "model_name": "LayoutModel",
      "state": {}
     },
     "9b23d9d5992641e6af7fbb4682189ff7": {
      "model_module": "@jupyter-widgets/base",
      "model_module_version": "1.2.0",
      "model_name": "LayoutModel",
      "state": {}
     },
     "9b8098105d484f81885134a64921beec": {
      "model_module": "@jupyter-widgets/controls",
      "model_module_version": "1.5.0",
      "model_name": "LabelModel",
      "state": {
       "layout": "IPY_MODEL_2ff7d307c9634f95b73adc2ad86af1b1",
       "style": "IPY_MODEL_647171e3a4534bbfaa2cf91d91f9a54c",
       "value": "13 / 13"
      }
     },
     "9baa5bb9ace549b9a5cf7a549ad02bdd": {
      "model_module": "@jupyter-widgets/controls",
      "model_module_version": "1.5.0",
      "model_name": "LabelModel",
      "state": {
       "layout": "IPY_MODEL_9e058b9d5d4f43058ba9b76cb5463399",
       "style": "IPY_MODEL_466e565c097d48e3992c5434ee445153",
       "value": "13 / 13"
      }
     },
     "9be2b5e284f247448f530b087a11cd00": {
      "model_module": "@jupyter-widgets/base",
      "model_module_version": "1.2.0",
      "model_name": "LayoutModel",
      "state": {}
     },
     "9d9d95a83f98404493f4b24407457b22": {
      "model_module": "@jupyter-widgets/controls",
      "model_module_version": "1.5.0",
      "model_name": "IntProgressModel",
      "state": {
       "bar_style": "success",
       "description": "100.00%",
       "layout": "IPY_MODEL_470bd0c355eb4ab292272da9a9eb8307",
       "max": 12,
       "style": "IPY_MODEL_0dd5db7f168a4651bd3838b2d70dc8a0",
       "value": 12
      }
     },
     "9e058b9d5d4f43058ba9b76cb5463399": {
      "model_module": "@jupyter-widgets/base",
      "model_module_version": "1.2.0",
      "model_name": "LayoutModel",
      "state": {}
     },
     "9e6c8bfa67b84f77852970e33903f015": {
      "model_module": "@jupyter-widgets/controls",
      "model_module_version": "1.5.0",
      "model_name": "ProgressStyleModel",
      "state": {
       "description_width": ""
      }
     },
     "9eb85fcc755a41bc879484ca5ac49fd8": {
      "model_module": "@jupyter-widgets/controls",
      "model_module_version": "1.5.0",
      "model_name": "DescriptionStyleModel",
      "state": {
       "description_width": ""
      }
     },
     "9ec1f351c1b242a2bcceebda8827323e": {
      "model_module": "@jupyter-widgets/base",
      "model_module_version": "1.2.0",
      "model_name": "LayoutModel",
      "state": {}
     },
     "9ec4704777434777b1af3762c36b1063": {
      "model_module": "@jupyter-widgets/controls",
      "model_module_version": "1.5.0",
      "model_name": "DescriptionStyleModel",
      "state": {
       "description_width": ""
      }
     },
     "9eefd4081502496b91be89b2099f8dee": {
      "model_module": "@jupyter-widgets/controls",
      "model_module_version": "1.5.0",
      "model_name": "VBoxModel",
      "state": {
       "children": [
        "IPY_MODEL_c3cef35a99c24ae2949dfad95ef07168",
        "IPY_MODEL_4775781655394831b084322b5828fda3",
        "IPY_MODEL_dd753910748f4ce9ac509f4415a957ab",
        "IPY_MODEL_1da09399524945cd988f3907000b110f",
        "IPY_MODEL_33317cc50e1542cd80686ec3e108ef33",
        "IPY_MODEL_75d71a771d744239ac8cb41b5f53e105",
        "IPY_MODEL_96cdbcb8b9ae4e5ba676ca2134bb1cfa",
        "IPY_MODEL_1524bfefca914a6b995b1d0192b53f42",
        "IPY_MODEL_284755d6cdec413ebcbd026dffadc205",
        "IPY_MODEL_daea64e59c0540b6a4139a1aaf3346f5",
        "IPY_MODEL_1b81f561c8654df08925770874687e1b",
        "IPY_MODEL_7049f9dc0e1f431a9ce3882811b74056",
        "IPY_MODEL_7749d4aca9784b8bb62bc7221c05b489",
        "IPY_MODEL_3244ed81fbdc4d79b08c37716f5a4b2e",
        "IPY_MODEL_76b6d0db32784adda252a54f8cc0c7c0",
        "IPY_MODEL_ec25e1cf271f492795fb351b16eb538a",
        "IPY_MODEL_b4a59439951441c8a15222162f47d51c",
        "IPY_MODEL_f8bfe0aa0af84d5ebe5d9f385b554c33",
        "IPY_MODEL_5d9c1f6637f041f9999af01bad7ca9f3",
        "IPY_MODEL_d92ca30602dc4ef7ad74bdfc69ee9528",
        "IPY_MODEL_e9b52dbc6cb94694a77f965c3e502277",
        "IPY_MODEL_cdd5888f3fd6430b81c1d71adf0151a8",
        "IPY_MODEL_52fb56f8a9924211aea41eb072b90f2e",
        "IPY_MODEL_d797aec94cb64354b03924216b28897e",
        "IPY_MODEL_8c87c118460048289d79fd4280a1f261",
        "IPY_MODEL_ca657665096c4a79aa5e8050fd47fbf7",
        "IPY_MODEL_42678260a6524a52b59b1ca07fdc1c7b",
        "IPY_MODEL_bec44f6846554c1da99ceaae61deca1c",
        "IPY_MODEL_1589060267fd4ec9b81822e17d05d876",
        "IPY_MODEL_082f281cb641498b81209934b76672e4",
        "IPY_MODEL_dc75025d00154fc0b772589018f72397",
        "IPY_MODEL_0c041635d28043b8aeb5213252b8b353",
        "IPY_MODEL_fd4d3e5b346640318f3ade03b16c2e3c",
        "IPY_MODEL_49b9568496f6492399911ab4bea8efca",
        "IPY_MODEL_09e243c1c3064bdbb74b7e21aff1f830",
        "IPY_MODEL_64ae7fdc6fb94887aeefe730bcfcd511",
        "IPY_MODEL_a6ef9f6c1f7a485d983e5a3aec70dfc8",
        "IPY_MODEL_b46e2217299b47ac91b4c3ab8364549b",
        "IPY_MODEL_4a8982c1b0704b06a24253076975098e",
        "IPY_MODEL_49124b61d895423ab7ab067c0a65330c",
        "IPY_MODEL_b94f4da90f7f483ebac0150c773f722a",
        "IPY_MODEL_bbf65b3eae9045ddaa7291b4526aabbe",
        "IPY_MODEL_63feb30e6dc3466c8881a4894b6d82c9",
        "IPY_MODEL_259c7624e6b84012bae1a8a46723d517",
        "IPY_MODEL_8a71f250fe2e4d3b889b703ff7213ded",
        "IPY_MODEL_1a574496baf14e51ade58f7f6513c2af",
        "IPY_MODEL_e6ea8f8297ec451a8a358f5599602efd",
        "IPY_MODEL_18d3e43278f94a748846effbfab2486e",
        "IPY_MODEL_869ce1f9686746f0909eccd5200281a1",
        "IPY_MODEL_af2ee0d24aad44c18d46ff51702ed461",
        "IPY_MODEL_7a4179c4d9684c93ae0d7e3e039b28a5",
        "IPY_MODEL_a1e22b6860be44b78bcecfec77cf4111",
        "IPY_MODEL_edd03ac41a0d4e20a495c1c592956f1a",
        "IPY_MODEL_f3da21d063bd4e4d828ceef5c8e16acf",
        "IPY_MODEL_dc29268c22d042b2836356309f7de554",
        "IPY_MODEL_a02e01ee0b9f46d7adc56173209c1f17",
        "IPY_MODEL_f62c5f6c328440f0b45600d5b22f5757",
        "IPY_MODEL_86f497603b064438815f63bb2aa8fb63",
        "IPY_MODEL_d0a2cbf854844b00a65561cdd89f268a",
        "IPY_MODEL_baab48fd8c2047df97a1fc0e67204bd9"
       ],
       "layout": "IPY_MODEL_ce1a0bad717b4027a6702ce590f3491d"
      }
     },
     "9efdd6d77822491a82399b8f1d6f2c8a": {
      "model_module": "@jupyter-widgets/base",
      "model_module_version": "1.2.0",
      "model_name": "LayoutModel",
      "state": {}
     },
     "9f0a16361246495b8a4fdb910c969eea": {
      "model_module": "@jupyter-widgets/controls",
      "model_module_version": "1.5.0",
      "model_name": "DescriptionStyleModel",
      "state": {
       "description_width": ""
      }
     },
     "a02e01ee0b9f46d7adc56173209c1f17": {
      "model_module": "@jupyter-widgets/controls",
      "model_module_version": "1.5.0",
      "model_name": "HBoxModel",
      "state": {
       "children": [
        "IPY_MODEL_3f7a13a862b841699a8989c843eedde1",
        "IPY_MODEL_911bfa654b27442b9aa904ca522d44ca"
       ],
       "layout": "IPY_MODEL_32cc3d2092134c2288e859b1ad0435ee"
      }
     },
     "a10fe327b1e34ca0812242ea7bea82b3": {
      "model_module": "@jupyter-widgets/base",
      "model_module_version": "1.2.0",
      "model_name": "LayoutModel",
      "state": {}
     },
     "a1e22b6860be44b78bcecfec77cf4111": {
      "model_module": "@jupyter-widgets/controls",
      "model_module_version": "1.5.0",
      "model_name": "HBoxModel",
      "state": {
       "children": [
        "IPY_MODEL_19408e80c27d42878fd2bb02195e1370",
        "IPY_MODEL_4aecd351547d437d905c192ddfbe1611"
       ],
       "layout": "IPY_MODEL_e6f99a59b83c4c4ab928f584ff2efa0b"
      }
     },
     "a32ce682a937409a91130c909bc077df": {
      "model_module": "@jupyter-widgets/base",
      "model_module_version": "1.2.0",
      "model_name": "LayoutModel",
      "state": {}
     },
     "a36a38ebb6fe4805950544336fcacc60": {
      "model_module": "@jupyter-widgets/controls",
      "model_module_version": "1.5.0",
      "model_name": "DescriptionStyleModel",
      "state": {
       "description_width": ""
      }
     },
     "a460ca8a53454ac6ad47dd5b90815e76": {
      "model_module": "@jupyter-widgets/controls",
      "model_module_version": "1.5.0",
      "model_name": "LabelModel",
      "state": {
       "layout": "IPY_MODEL_694a0fce948447e98a7b23b6a74b0786",
       "style": "IPY_MODEL_f16ebdcc19974f05889011b122d3e93a",
       "value": "12 / 12"
      }
     },
     "a560fd288cc340789dd8892330c8f8f1": {
      "model_module": "@jupyter-widgets/controls",
      "model_module_version": "1.5.0",
      "model_name": "DescriptionStyleModel",
      "state": {
       "description_width": ""
      }
     },
     "a66e61e3ed21488a95b681fb97155bb3": {
      "model_module": "@jupyter-widgets/base",
      "model_module_version": "1.2.0",
      "model_name": "LayoutModel",
      "state": {}
     },
     "a6b07fcea2884e65a7c985ecd0de7504": {
      "model_module": "@jupyter-widgets/base",
      "model_module_version": "1.2.0",
      "model_name": "LayoutModel",
      "state": {}
     },
     "a6ef9f6c1f7a485d983e5a3aec70dfc8": {
      "model_module": "@jupyter-widgets/controls",
      "model_module_version": "1.5.0",
      "model_name": "HBoxModel",
      "state": {
       "children": [
        "IPY_MODEL_c839c0424a1641e9853f1fd0edd5a791",
        "IPY_MODEL_3050c77f166542479525bb7513bb21e9"
       ],
       "layout": "IPY_MODEL_7563e6e410d7467cadfac4f8d80a2bab"
      }
     },
     "a7fed7398b884013ae38faa0943b5de2": {
      "model_module": "@jupyter-widgets/controls",
      "model_module_version": "1.5.0",
      "model_name": "ProgressStyleModel",
      "state": {
       "description_width": ""
      }
     },
     "a8fd6f8a043e47a78cedd0dbbc655771": {
      "model_module": "@jupyter-widgets/base",
      "model_module_version": "1.2.0",
      "model_name": "LayoutModel",
      "state": {}
     },
     "a90c7a723fa24505bf11d3bfdf5687ac": {
      "model_module": "@jupyter-widgets/controls",
      "model_module_version": "1.5.0",
      "model_name": "IntProgressModel",
      "state": {
       "bar_style": "success",
       "description": "100.00%",
       "layout": "IPY_MODEL_794ec17faa964cccbe655c89b7efa398",
       "max": 13,
       "style": "IPY_MODEL_1c6ccf7c865645f79cd15a44c4ec6aae",
       "value": 13
      }
     },
     "a9c6176a811243759d7c70f3c0d91a7e": {
      "model_module": "@jupyter-widgets/base",
      "model_module_version": "1.2.0",
      "model_name": "LayoutModel",
      "state": {}
     },
     "aa2ed2e3543840c9b8031a40d4d6501a": {
      "model_module": "@jupyter-widgets/controls",
      "model_module_version": "1.5.0",
      "model_name": "LabelModel",
      "state": {
       "layout": "IPY_MODEL_b09e3b27b2a34cc8ac2d3a950d3fbac4",
       "style": "IPY_MODEL_4e7217fe38f2411d8c52a0fabc36fddc",
       "value": "13 / 13"
      }
     },
     "aad48e881224441581241c029feb05b0": {
      "model_module": "@jupyter-widgets/base",
      "model_module_version": "1.2.0",
      "model_name": "LayoutModel",
      "state": {}
     },
     "aafbaf72237d46d383b44eaac09259c6": {
      "model_module": "@jupyter-widgets/base",
      "model_module_version": "1.2.0",
      "model_name": "LayoutModel",
      "state": {}
     },
     "ab726c55fd01422087a4483df9baf36b": {
      "model_module": "@jupyter-widgets/controls",
      "model_module_version": "1.5.0",
      "model_name": "LabelModel",
      "state": {
       "layout": "IPY_MODEL_a32ce682a937409a91130c909bc077df",
       "style": "IPY_MODEL_c42e789116924006ab910ce5e59f8a37",
       "value": "12 / 12"
      }
     },
     "ab8a163675194a05bd636e01d6dbe386": {
      "model_module": "@jupyter-widgets/controls",
      "model_module_version": "1.5.0",
      "model_name": "ProgressStyleModel",
      "state": {
       "description_width": ""
      }
     },
     "ac29a2f1c1354abe9683296fe4a937ef": {
      "model_module": "@jupyter-widgets/base",
      "model_module_version": "1.2.0",
      "model_name": "LayoutModel",
      "state": {}
     },
     "acb34f93ed264ed9a1ff982cb4fde815": {
      "model_module": "@jupyter-widgets/controls",
      "model_module_version": "1.5.0",
      "model_name": "DescriptionStyleModel",
      "state": {
       "description_width": ""
      }
     },
     "ad1ea88890f144a59b83165977b1968a": {
      "model_module": "@jupyter-widgets/base",
      "model_module_version": "1.2.0",
      "model_name": "LayoutModel",
      "state": {}
     },
     "adbc7181bdcb42478f3dec3cd0f3d01c": {
      "model_module": "@jupyter-widgets/controls",
      "model_module_version": "1.5.0",
      "model_name": "DescriptionStyleModel",
      "state": {
       "description_width": ""
      }
     },
     "adfd226e9f3a4e089391d7e652f6b85c": {
      "model_module": "@jupyter-widgets/controls",
      "model_module_version": "1.5.0",
      "model_name": "LabelModel",
      "state": {
       "layout": "IPY_MODEL_8301fbe6274246a6b32fa2cdc60bb881",
       "style": "IPY_MODEL_96a45035242f4a40aa2e80e63da8e128",
       "value": "13 / 13"
      }
     },
     "af2ee0d24aad44c18d46ff51702ed461": {
      "model_module": "@jupyter-widgets/controls",
      "model_module_version": "1.5.0",
      "model_name": "HBoxModel",
      "state": {
       "children": [
        "IPY_MODEL_6bdef3fa6b1645eb841bdaaf7dc990fa",
        "IPY_MODEL_88ae2231f6d8409f80b3d5941e135543"
       ],
       "layout": "IPY_MODEL_ec6858c8d74d484390b3045b893f82d3"
      }
     },
     "af92b1555d154c1ab7dc237a74cf4a57": {
      "model_module": "@jupyter-widgets/controls",
      "model_module_version": "1.5.0",
      "model_name": "DescriptionStyleModel",
      "state": {
       "description_width": ""
      }
     },
     "b095e08bccc64627b850b72a982e6685": {
      "model_module": "@jupyter-widgets/base",
      "model_module_version": "1.2.0",
      "model_name": "LayoutModel",
      "state": {}
     },
     "b09e3b27b2a34cc8ac2d3a950d3fbac4": {
      "model_module": "@jupyter-widgets/base",
      "model_module_version": "1.2.0",
      "model_name": "LayoutModel",
      "state": {}
     },
     "b0eedf142c33456398d95179e0560286": {
      "model_module": "@jupyter-widgets/controls",
      "model_module_version": "1.5.0",
      "model_name": "IntProgressModel",
      "state": {
       "bar_style": "success",
       "description": "100.00%",
       "layout": "IPY_MODEL_0940f0c573654034b9fd220cf6ac9dba",
       "max": 13,
       "style": "IPY_MODEL_3b3c9d75808a49c0832a210709237458",
       "value": 13
      }
     },
     "b12a3151be6d445eb5d5746a994d651f": {
      "model_module": "@jupyter-widgets/base",
      "model_module_version": "1.2.0",
      "model_name": "LayoutModel",
      "state": {}
     },
     "b15382bcb2d649e18d9aff25a126d6ef": {
      "model_module": "@jupyter-widgets/base",
      "model_module_version": "1.2.0",
      "model_name": "LayoutModel",
      "state": {}
     },
     "b16c6a6a7af847a58b9cf64c846b273f": {
      "model_module": "@jupyter-widgets/controls",
      "model_module_version": "1.5.0",
      "model_name": "ProgressStyleModel",
      "state": {
       "description_width": ""
      }
     },
     "b2ad3d1ff7c04efeae0643813eb1bdb0": {
      "model_module": "@jupyter-widgets/controls",
      "model_module_version": "1.5.0",
      "model_name": "LabelModel",
      "state": {
       "layout": "IPY_MODEL_23d0ce114c3143a09992f3fdd480b317",
       "style": "IPY_MODEL_72830fddb2ad47fe89cb9ab67f9ae762",
       "value": "13 / 13"
      }
     },
     "b2cc67c3fe5e4d20a98ad293316d0907": {
      "model_module": "@jupyter-widgets/controls",
      "model_module_version": "1.5.0",
      "model_name": "ProgressStyleModel",
      "state": {
       "description_width": ""
      }
     },
     "b309e6380d8a4ab09e6e06441f16e8cc": {
      "model_module": "@jupyter-widgets/controls",
      "model_module_version": "1.5.0",
      "model_name": "LabelModel",
      "state": {
       "layout": "IPY_MODEL_de645b7f330b4dee8b50c6a50e1d88be",
       "style": "IPY_MODEL_007403c12149474180703bad6dbaf14b",
       "value": "12 / 12"
      }
     },
     "b31f1c7f0a4a4b45b8a62e4e8001f24c": {
      "model_module": "@jupyter-widgets/base",
      "model_module_version": "1.2.0",
      "model_name": "LayoutModel",
      "state": {}
     },
     "b3a62fc486c746c8a806ebf08edba121": {
      "model_module": "@jupyter-widgets/controls",
      "model_module_version": "1.5.0",
      "model_name": "LabelModel",
      "state": {
       "layout": "IPY_MODEL_1e785a1836c54346ae02681b514bbde0",
       "style": "IPY_MODEL_adbc7181bdcb42478f3dec3cd0f3d01c",
       "value": "12 / 12"
      }
     },
     "b4615c2f37014de480b9f3c91f6782e3": {
      "model_module": "@jupyter-widgets/base",
      "model_module_version": "1.2.0",
      "model_name": "LayoutModel",
      "state": {}
     },
     "b46c88384baa411483af91cc266151dc": {
      "model_module": "@jupyter-widgets/controls",
      "model_module_version": "1.5.0",
      "model_name": "LabelModel",
      "state": {
       "layout": "IPY_MODEL_2ea352d16fc64c3ba9019b7ba356cba2",
       "style": "IPY_MODEL_acb34f93ed264ed9a1ff982cb4fde815",
       "value": "13 / 13"
      }
     },
     "b46e2217299b47ac91b4c3ab8364549b": {
      "model_module": "@jupyter-widgets/controls",
      "model_module_version": "1.5.0",
      "model_name": "HBoxModel",
      "state": {
       "children": [
        "IPY_MODEL_6c201ab54d4747b0b91a2f001129cc3f",
        "IPY_MODEL_cc219780eea349f48ab202e5c0b7e01a"
       ],
       "layout": "IPY_MODEL_814d4d0fc7ec48a7a0f51e97ee3dae37"
      }
     },
     "b4a59439951441c8a15222162f47d51c": {
      "model_module": "@jupyter-widgets/controls",
      "model_module_version": "1.5.0",
      "model_name": "HBoxModel",
      "state": {
       "children": [
        "IPY_MODEL_5b3353b492554510a62d8a49df0ee585",
        "IPY_MODEL_2fe3037e3a8646e89e90d5e790947d7f"
       ],
       "layout": "IPY_MODEL_8f4d88f8149d442c8ddf94e0293b444b"
      }
     },
     "b501c6c033ac44a59ae691af35bd6836": {
      "model_module": "@jupyter-widgets/base",
      "model_module_version": "1.2.0",
      "model_name": "LayoutModel",
      "state": {}
     },
     "b54866acf0564e0daee6da1ae56b35e4": {
      "model_module": "@jupyter-widgets/controls",
      "model_module_version": "1.5.0",
      "model_name": "ProgressStyleModel",
      "state": {
       "description_width": ""
      }
     },
     "b5cf90b576fc457f9493060860546e90": {
      "model_module": "@jupyter-widgets/controls",
      "model_module_version": "1.5.0",
      "model_name": "DescriptionStyleModel",
      "state": {
       "description_width": ""
      }
     },
     "b5e35c673feb4d0f92886a4d031532c0": {
      "model_module": "@jupyter-widgets/base",
      "model_module_version": "1.2.0",
      "model_name": "LayoutModel",
      "state": {}
     },
     "b61e3d0be01040268f2a68af6d35453b": {
      "model_module": "@jupyter-widgets/base",
      "model_module_version": "1.2.0",
      "model_name": "LayoutModel",
      "state": {}
     },
     "b6435fa968da4d4cbebde1d36c89877d": {
      "model_module": "@jupyter-widgets/base",
      "model_module_version": "1.2.0",
      "model_name": "LayoutModel",
      "state": {}
     },
     "b648144aae124ac6bdba15a5b02009e0": {
      "model_module": "@jupyter-widgets/controls",
      "model_module_version": "1.5.0",
      "model_name": "DescriptionStyleModel",
      "state": {
       "description_width": ""
      }
     },
     "b6fe6a740a0547a9b4765cc86dc0c71b": {
      "model_module": "@jupyter-widgets/controls",
      "model_module_version": "1.5.0",
      "model_name": "IntProgressModel",
      "state": {
       "bar_style": "success",
       "description": "100.00%",
       "layout": "IPY_MODEL_c196d22e6e064d00aeaaf7558b96e580",
       "max": 13,
       "style": "IPY_MODEL_717dd02d6ae24583900d6995d65b28b8",
       "value": 13
      }
     },
     "b76a9a08dd2f4de09cddd56bbfac7743": {
      "model_module": "@jupyter-widgets/controls",
      "model_module_version": "1.5.0",
      "model_name": "LabelModel",
      "state": {
       "layout": "IPY_MODEL_9b207326686d4e099c7ad434e0422771",
       "style": "IPY_MODEL_b648144aae124ac6bdba15a5b02009e0",
       "value": "13 / 13"
      }
     },
     "b76b1e21fc1f4d56be920155f96f279b": {
      "model_module": "@jupyter-widgets/controls",
      "model_module_version": "1.5.0",
      "model_name": "LabelModel",
      "state": {
       "layout": "IPY_MODEL_0382d4a51b4b4f2b84de671c64b7cb56",
       "style": "IPY_MODEL_d20b39d5516a4e15a720bcbaeb5202f8",
       "value": "12 / 12"
      }
     },
     "b78c25e766034da49605c76e9e4963db": {
      "model_module": "@jupyter-widgets/base",
      "model_module_version": "1.2.0",
      "model_name": "LayoutModel",
      "state": {}
     },
     "b81ff13c32fb40d3bee5b771961b8b2a": {
      "model_module": "@jupyter-widgets/base",
      "model_module_version": "1.2.0",
      "model_name": "LayoutModel",
      "state": {}
     },
     "b8af18b208d84c03b660093eea3053dd": {
      "model_module": "@jupyter-widgets/base",
      "model_module_version": "1.2.0",
      "model_name": "LayoutModel",
      "state": {}
     },
     "b8ca1fc298e6473fafa2dbac3e5b140d": {
      "model_module": "@jupyter-widgets/base",
      "model_module_version": "1.2.0",
      "model_name": "LayoutModel",
      "state": {}
     },
     "b94f4da90f7f483ebac0150c773f722a": {
      "model_module": "@jupyter-widgets/controls",
      "model_module_version": "1.5.0",
      "model_name": "HBoxModel",
      "state": {
       "children": [
        "IPY_MODEL_f7d91d2339ae455cadb0d3790dcfd7a7",
        "IPY_MODEL_7a6bdbb06d774979894b00aedc722d8c"
       ],
       "layout": "IPY_MODEL_6512f5a7d1c2465593b51513e9f5e101"
      }
     },
     "b96fbd5cf7a24f888418e327847bfcc5": {
      "model_module": "@jupyter-widgets/base",
      "model_module_version": "1.2.0",
      "model_name": "LayoutModel",
      "state": {}
     },
     "b98af397a29947b6885e36848adae9d7": {
      "model_module": "@jupyter-widgets/controls",
      "model_module_version": "1.5.0",
      "model_name": "LabelModel",
      "state": {
       "layout": "IPY_MODEL_0cff93f83cd84121a7460f09c940f5ca",
       "style": "IPY_MODEL_7755aca8221340aea29dce7bbf019fec",
       "value": "13 / 13"
      }
     },
     "b9d34ea400704ecf862439e60eef5579": {
      "model_module": "@jupyter-widgets/controls",
      "model_module_version": "1.5.0",
      "model_name": "LabelModel",
      "state": {
       "layout": "IPY_MODEL_3ede4c3fe3244deebfc0023ea198ebd5",
       "style": "IPY_MODEL_93c161d686c447f6bd3cb76e17b861f2",
       "value": "12 / 12"
      }
     },
     "ba088a07a82149639dda9f2e54afb153": {
      "model_module": "@jupyter-widgets/controls",
      "model_module_version": "1.5.0",
      "model_name": "ProgressStyleModel",
      "state": {
       "description_width": ""
      }
     },
     "baab48fd8c2047df97a1fc0e67204bd9": {
      "model_module": "@jupyter-widgets/controls",
      "model_module_version": "1.5.0",
      "model_name": "HBoxModel",
      "state": {
       "children": [
        "IPY_MODEL_d3153932bced49be90dcb3d745c1e2f9",
        "IPY_MODEL_40b0450c5a664b49afa495dee7a4e4db"
       ],
       "layout": "IPY_MODEL_322113e1732c4555a89a8a5425f718c1"
      }
     },
     "baf6f83a41464b3596a405e2b9b9ec1a": {
      "model_module": "@jupyter-widgets/base",
      "model_module_version": "1.2.0",
      "model_name": "LayoutModel",
      "state": {}
     },
     "bb26c01e4ed7447cbc09028931d8455c": {
      "model_module": "@jupyter-widgets/base",
      "model_module_version": "1.2.0",
      "model_name": "LayoutModel",
      "state": {}
     },
     "bbcc41a4cb164d3b9eac497284aca9c2": {
      "model_module": "@jupyter-widgets/controls",
      "model_module_version": "1.5.0",
      "model_name": "DescriptionStyleModel",
      "state": {
       "description_width": ""
      }
     },
     "bbf65b3eae9045ddaa7291b4526aabbe": {
      "model_module": "@jupyter-widgets/controls",
      "model_module_version": "1.5.0",
      "model_name": "HBoxModel",
      "state": {
       "children": [
        "IPY_MODEL_8b09bc47b0ac44e18e9421637a8c8635",
        "IPY_MODEL_c9432e54d3c44425a9659765af45ee1b"
       ],
       "layout": "IPY_MODEL_c349ef787e384ae58fe13a660baed2db"
      }
     },
     "bcb2ec848f5a456390a85fbe58a1c7b0": {
      "model_module": "@jupyter-widgets/base",
      "model_module_version": "1.2.0",
      "model_name": "LayoutModel",
      "state": {}
     },
     "bd273875fb634a70bb8e5005329289f3": {
      "model_module": "@jupyter-widgets/controls",
      "model_module_version": "1.5.0",
      "model_name": "LabelModel",
      "state": {
       "layout": "IPY_MODEL_c37519f53d074e37ab7c02b321be2688",
       "style": "IPY_MODEL_674b0697c8a54951bf2252c0f3ba737b",
       "value": "12 / 12"
      }
     },
     "bec44f6846554c1da99ceaae61deca1c": {
      "model_module": "@jupyter-widgets/controls",
      "model_module_version": "1.5.0",
      "model_name": "HBoxModel",
      "state": {
       "children": [
        "IPY_MODEL_43e51e46b0bf404997ce687072529eed",
        "IPY_MODEL_eda10c8d46974b9ca5e3e7348c2aff2d"
       ],
       "layout": "IPY_MODEL_d18955e43f494ab09239a438c7483126"
      }
     },
     "c025b96bd1a646c5958ecf69ce1c3c14": {
      "model_module": "@jupyter-widgets/base",
      "model_module_version": "1.2.0",
      "model_name": "LayoutModel",
      "state": {}
     },
     "c196d22e6e064d00aeaaf7558b96e580": {
      "model_module": "@jupyter-widgets/base",
      "model_module_version": "1.2.0",
      "model_name": "LayoutModel",
      "state": {}
     },
     "c2b296a8055d4f43a20e778529093319": {
      "model_module": "@jupyter-widgets/controls",
      "model_module_version": "1.5.0",
      "model_name": "DescriptionStyleModel",
      "state": {
       "description_width": ""
      }
     },
     "c320fc2965714b8a97c6e158354027c3": {
      "model_module": "@jupyter-widgets/base",
      "model_module_version": "1.2.0",
      "model_name": "LayoutModel",
      "state": {}
     },
     "c349ef787e384ae58fe13a660baed2db": {
      "model_module": "@jupyter-widgets/base",
      "model_module_version": "1.2.0",
      "model_name": "LayoutModel",
      "state": {}
     },
     "c37519f53d074e37ab7c02b321be2688": {
      "model_module": "@jupyter-widgets/base",
      "model_module_version": "1.2.0",
      "model_name": "LayoutModel",
      "state": {}
     },
     "c3cef35a99c24ae2949dfad95ef07168": {
      "model_module": "@jupyter-widgets/controls",
      "model_module_version": "1.5.0",
      "model_name": "HBoxModel",
      "state": {
       "children": [
        "IPY_MODEL_cb6c081e3dff44479a5d4a4466594971",
        "IPY_MODEL_fd31919e9c2b4f61b80dc9a9278c1838"
       ],
       "layout": "IPY_MODEL_3d55ec59c17f4722a43a9cbd06f80321"
      }
     },
     "c3e78026106a46abbb0f81467428b34f": {
      "model_module": "@jupyter-widgets/controls",
      "model_module_version": "1.5.0",
      "model_name": "DescriptionStyleModel",
      "state": {
       "description_width": ""
      }
     },
     "c42e789116924006ab910ce5e59f8a37": {
      "model_module": "@jupyter-widgets/controls",
      "model_module_version": "1.5.0",
      "model_name": "DescriptionStyleModel",
      "state": {
       "description_width": ""
      }
     },
     "c47680acaaa24687a6274f17f730f7ad": {
      "model_module": "@jupyter-widgets/controls",
      "model_module_version": "1.5.0",
      "model_name": "ProgressStyleModel",
      "state": {
       "description_width": ""
      }
     },
     "c54d276ef7364defbc0516922a72645f": {
      "model_module": "@jupyter-widgets/controls",
      "model_module_version": "1.5.0",
      "model_name": "LabelModel",
      "state": {
       "layout": "IPY_MODEL_96ec7ad5794849b9bb4bfdb3be5972ab",
       "style": "IPY_MODEL_f0f14da8664742b096a3c88daf2b4fa2",
       "value": "13 / 13"
      }
     },
     "c678c7f74f4047e69885340b70ba4a0e": {
      "model_module": "@jupyter-widgets/controls",
      "model_module_version": "1.5.0",
      "model_name": "ProgressStyleModel",
      "state": {
       "description_width": ""
      }
     },
     "c6d3b0c91e97457f91e66cf3497863d0": {
      "model_module": "@jupyter-widgets/controls",
      "model_module_version": "1.5.0",
      "model_name": "IntProgressModel",
      "state": {
       "bar_style": "success",
       "description": "100.00%",
       "layout": "IPY_MODEL_116a728076134470b27fb2c38dbd6d52",
       "max": 12,
       "style": "IPY_MODEL_6eea9129049a40ff9e6e43e1251f4670",
       "value": 12
      }
     },
     "c6f20d15cbec4e9ab81298e756b62da3": {
      "model_module": "@jupyter-widgets/base",
      "model_module_version": "1.2.0",
      "model_name": "LayoutModel",
      "state": {}
     },
     "c7662c8b8e43482b87f484231aa09ed1": {
      "model_module": "@jupyter-widgets/base",
      "model_module_version": "1.2.0",
      "model_name": "LayoutModel",
      "state": {}
     },
     "c7b733ce5aad4090b44702b18b99593a": {
      "model_module": "@jupyter-widgets/controls",
      "model_module_version": "1.5.0",
      "model_name": "ProgressStyleModel",
      "state": {
       "description_width": ""
      }
     },
     "c839c0424a1641e9853f1fd0edd5a791": {
      "model_module": "@jupyter-widgets/controls",
      "model_module_version": "1.5.0",
      "model_name": "IntProgressModel",
      "state": {
       "bar_style": "success",
       "description": "100.00%",
       "layout": "IPY_MODEL_d8b5a6ae82e644dc9549f620351b3cfc",
       "max": 12,
       "style": "IPY_MODEL_031bb503acce49a699785255dbec3cf9",
       "value": 12
      }
     },
     "c8bca9d26e50469e9535b44deb18da91": {
      "model_module": "@jupyter-widgets/base",
      "model_module_version": "1.2.0",
      "model_name": "LayoutModel",
      "state": {}
     },
     "c8f781800421463da9bd652e974ba36c": {
      "model_module": "@jupyter-widgets/base",
      "model_module_version": "1.2.0",
      "model_name": "LayoutModel",
      "state": {}
     },
     "c9432e54d3c44425a9659765af45ee1b": {
      "model_module": "@jupyter-widgets/controls",
      "model_module_version": "1.5.0",
      "model_name": "LabelModel",
      "state": {
       "layout": "IPY_MODEL_b12a3151be6d445eb5d5746a994d651f",
       "style": "IPY_MODEL_36c5815adc76415bae45dd24c8c64c54",
       "value": "12 / 12"
      }
     },
     "ca0902ba2ed947f793a7534173a7e453": {
      "model_module": "@jupyter-widgets/base",
      "model_module_version": "1.2.0",
      "model_name": "LayoutModel",
      "state": {}
     },
     "ca657665096c4a79aa5e8050fd47fbf7": {
      "model_module": "@jupyter-widgets/controls",
      "model_module_version": "1.5.0",
      "model_name": "HBoxModel",
      "state": {
       "children": [
        "IPY_MODEL_7821eb33d9ca4b1392e65a5924906e81",
        "IPY_MODEL_9695f19e86eb41a7bb7c43dc76ad7617"
       ],
       "layout": "IPY_MODEL_e4f853ca0a0a4e0dbc12aaa238e24212"
      }
     },
     "cb6c081e3dff44479a5d4a4466594971": {
      "model_module": "@jupyter-widgets/controls",
      "model_module_version": "1.5.0",
      "model_name": "IntProgressModel",
      "state": {
       "bar_style": "success",
       "description": "100.00%",
       "layout": "IPY_MODEL_b095e08bccc64627b850b72a982e6685",
       "max": 13,
       "style": "IPY_MODEL_24cd06ba2e04447894e61312c118e820",
       "value": 13
      }
     },
     "cc219780eea349f48ab202e5c0b7e01a": {
      "model_module": "@jupyter-widgets/controls",
      "model_module_version": "1.5.0",
      "model_name": "LabelModel",
      "state": {
       "layout": "IPY_MODEL_d9cd6c15e14d41b781ee0087514a97f6",
       "style": "IPY_MODEL_209964d9f8b44f9799f2584f3058c210",
       "value": "12 / 12"
      }
     },
     "cdd5888f3fd6430b81c1d71adf0151a8": {
      "model_module": "@jupyter-widgets/controls",
      "model_module_version": "1.5.0",
      "model_name": "HBoxModel",
      "state": {
       "children": [
        "IPY_MODEL_ecceabc036e2479998ec085f9f8c2a9e",
        "IPY_MODEL_9baa5bb9ace549b9a5cf7a549ad02bdd"
       ],
       "layout": "IPY_MODEL_2084699ca0d844efb5cbf8e00e8886d6"
      }
     },
     "ce1a0bad717b4027a6702ce590f3491d": {
      "model_module": "@jupyter-widgets/base",
      "model_module_version": "1.2.0",
      "model_name": "LayoutModel",
      "state": {}
     },
     "ce5974d69c644a93b8353733e94c3812": {
      "model_module": "@jupyter-widgets/controls",
      "model_module_version": "1.5.0",
      "model_name": "ProgressStyleModel",
      "state": {
       "description_width": ""
      }
     },
     "cf4c34b9244d42febaa53f7967ee92cb": {
      "model_module": "@jupyter-widgets/controls",
      "model_module_version": "1.5.0",
      "model_name": "ProgressStyleModel",
      "state": {
       "description_width": ""
      }
     },
     "d0a2cbf854844b00a65561cdd89f268a": {
      "model_module": "@jupyter-widgets/controls",
      "model_module_version": "1.5.0",
      "model_name": "HBoxModel",
      "state": {
       "children": [
        "IPY_MODEL_8dc63486cc0247c6a625208db24a35c1",
        "IPY_MODEL_2e404dac4fde4b53be4a4a328bfabf6f"
       ],
       "layout": "IPY_MODEL_f3a70e9e2df34ac0b414934b8f274bce"
      }
     },
     "d18955e43f494ab09239a438c7483126": {
      "model_module": "@jupyter-widgets/base",
      "model_module_version": "1.2.0",
      "model_name": "LayoutModel",
      "state": {}
     },
     "d20b39d5516a4e15a720bcbaeb5202f8": {
      "model_module": "@jupyter-widgets/controls",
      "model_module_version": "1.5.0",
      "model_name": "DescriptionStyleModel",
      "state": {
       "description_width": ""
      }
     },
     "d2927214211e4256a3ee7d02eea9a98a": {
      "model_module": "@jupyter-widgets/controls",
      "model_module_version": "1.5.0",
      "model_name": "LabelModel",
      "state": {
       "layout": "IPY_MODEL_8d4e108c672e4469bf79cfc8236c0344",
       "style": "IPY_MODEL_4db90b3d7b064e75b9c2213f148bf46a",
       "value": "12 / 12"
      }
     },
     "d311778430ca4c9a9f5e535b4a568f9c": {
      "model_module": "@jupyter-widgets/controls",
      "model_module_version": "1.5.0",
      "model_name": "IntProgressModel",
      "state": {
       "bar_style": "success",
       "description": "100.00%",
       "layout": "IPY_MODEL_1324c630a4dc4545a65c2218af528041",
       "max": 12,
       "style": "IPY_MODEL_4bdc446cfafa4c31bda2a704a7968670",
       "value": 12
      }
     },
     "d3153932bced49be90dcb3d745c1e2f9": {
      "model_module": "@jupyter-widgets/controls",
      "model_module_version": "1.5.0",
      "model_name": "IntProgressModel",
      "state": {
       "bar_style": "success",
       "description": "100.00%",
       "layout": "IPY_MODEL_b61e3d0be01040268f2a68af6d35453b",
       "max": 12,
       "style": "IPY_MODEL_8e28e9246d0145a39a73be67a84ba6dc",
       "value": 12
      }
     },
     "d59649f82ae64689993296df5f914013": {
      "model_module": "@jupyter-widgets/controls",
      "model_module_version": "1.5.0",
      "model_name": "DescriptionStyleModel",
      "state": {
       "description_width": ""
      }
     },
     "d5e0e040df6f427eba7d2428cc311ed9": {
      "model_module": "@jupyter-widgets/base",
      "model_module_version": "1.2.0",
      "model_name": "LayoutModel",
      "state": {}
     },
     "d797aec94cb64354b03924216b28897e": {
      "model_module": "@jupyter-widgets/controls",
      "model_module_version": "1.5.0",
      "model_name": "HBoxModel",
      "state": {
       "children": [
        "IPY_MODEL_81f93b76d92443b19015dbe080861ee1",
        "IPY_MODEL_adfd226e9f3a4e089391d7e652f6b85c"
       ],
       "layout": "IPY_MODEL_baf6f83a41464b3596a405e2b9b9ec1a"
      }
     },
     "d80dda580ed34372b1a4c8a8d793f17e": {
      "model_module": "@jupyter-widgets/controls",
      "model_module_version": "1.5.0",
      "model_name": "DescriptionStyleModel",
      "state": {
       "description_width": ""
      }
     },
     "d8b19c01d6c44191b337703687318940": {
      "model_module": "@jupyter-widgets/base",
      "model_module_version": "1.2.0",
      "model_name": "LayoutModel",
      "state": {}
     },
     "d8b5a6ae82e644dc9549f620351b3cfc": {
      "model_module": "@jupyter-widgets/base",
      "model_module_version": "1.2.0",
      "model_name": "LayoutModel",
      "state": {}
     },
     "d8c7a68908db475ca210f984bb691766": {
      "model_module": "@jupyter-widgets/controls",
      "model_module_version": "1.5.0",
      "model_name": "ProgressStyleModel",
      "state": {
       "description_width": ""
      }
     },
     "d92ca30602dc4ef7ad74bdfc69ee9528": {
      "model_module": "@jupyter-widgets/controls",
      "model_module_version": "1.5.0",
      "model_name": "HBoxModel",
      "state": {
       "children": [
        "IPY_MODEL_96173d719c8a4bf6a9d6ad0fab2870e0",
        "IPY_MODEL_b46c88384baa411483af91cc266151dc"
       ],
       "layout": "IPY_MODEL_4cc6bef7538c4683826be2b832182182"
      }
     },
     "d9b3b8bdb39a42f1991861c29ff32a28": {
      "model_module": "@jupyter-widgets/controls",
      "model_module_version": "1.5.0",
      "model_name": "IntProgressModel",
      "state": {
       "bar_style": "success",
       "description": "100.00%",
       "layout": "IPY_MODEL_0b286bd194044e78bdb20bfa21326128",
       "max": 12,
       "style": "IPY_MODEL_25a596b3a8e942d980333b43c22627ec",
       "value": 12
      }
     },
     "d9cd6c15e14d41b781ee0087514a97f6": {
      "model_module": "@jupyter-widgets/base",
      "model_module_version": "1.2.0",
      "model_name": "LayoutModel",
      "state": {}
     },
     "d9d33cf511d742c78d7a37c6aece3324": {
      "model_module": "@jupyter-widgets/base",
      "model_module_version": "1.2.0",
      "model_name": "LayoutModel",
      "state": {}
     },
     "da6d251fe70144b9a131d8f02236653c": {
      "model_module": "@jupyter-widgets/base",
      "model_module_version": "1.2.0",
      "model_name": "LayoutModel",
      "state": {}
     },
     "daa76a8acfff4004a7a1c6babeb74ea8": {
      "model_module": "@jupyter-widgets/base",
      "model_module_version": "1.2.0",
      "model_name": "LayoutModel",
      "state": {}
     },
     "daea64e59c0540b6a4139a1aaf3346f5": {
      "model_module": "@jupyter-widgets/controls",
      "model_module_version": "1.5.0",
      "model_name": "HBoxModel",
      "state": {
       "children": [
        "IPY_MODEL_0f7c750a93354e4eaa49e6e03d72a7f1",
        "IPY_MODEL_aa2ed2e3543840c9b8031a40d4d6501a"
       ],
       "layout": "IPY_MODEL_39ea4389c30b4c4d8449aae57b46170c"
      }
     },
     "db68537f98f646dc809e4b2ad264ceaf": {
      "model_module": "@jupyter-widgets/base",
      "model_module_version": "1.2.0",
      "model_name": "LayoutModel",
      "state": {}
     },
     "dc29268c22d042b2836356309f7de554": {
      "model_module": "@jupyter-widgets/controls",
      "model_module_version": "1.5.0",
      "model_name": "HBoxModel",
      "state": {
       "children": [
        "IPY_MODEL_3326cabe630f463c8a05948cbb3cf641",
        "IPY_MODEL_4b1f78ed318c4839a75d3492ac255b13"
       ],
       "layout": "IPY_MODEL_8582cbc2a3fd48d0a60c4ba016242c21"
      }
     },
     "dc75025d00154fc0b772589018f72397": {
      "model_module": "@jupyter-widgets/controls",
      "model_module_version": "1.5.0",
      "model_name": "HBoxModel",
      "state": {
       "children": [
        "IPY_MODEL_088cfa793c744da1b09d9376f2946734",
        "IPY_MODEL_fc87803b740a4848afe34eff90cb024b"
       ],
       "layout": "IPY_MODEL_a9c6176a811243759d7c70f3c0d91a7e"
      }
     },
     "dca5878feafa409b96c798dff8666570": {
      "model_module": "@jupyter-widgets/base",
      "model_module_version": "1.2.0",
      "model_name": "LayoutModel",
      "state": {}
     },
     "dce1cf55db8f46e5bb2d944c6fee8e96": {
      "model_module": "@jupyter-widgets/base",
      "model_module_version": "1.2.0",
      "model_name": "LayoutModel",
      "state": {}
     },
     "dcf70be27f0b42a7bfd1917adc0a05bd": {
      "model_module": "@jupyter-widgets/base",
      "model_module_version": "1.2.0",
      "model_name": "LayoutModel",
      "state": {}
     },
     "dd0ac27f72ac435486e25640c04fad5f": {
      "model_module": "@jupyter-widgets/base",
      "model_module_version": "1.2.0",
      "model_name": "LayoutModel",
      "state": {}
     },
     "dd753910748f4ce9ac509f4415a957ab": {
      "model_module": "@jupyter-widgets/controls",
      "model_module_version": "1.5.0",
      "model_name": "HBoxModel",
      "state": {
       "children": [
        "IPY_MODEL_7a0d85c185b24d59935f3fddf7d9f0af",
        "IPY_MODEL_df79e8a71c88441f972bc661b30ddd8c"
       ],
       "layout": "IPY_MODEL_20adf321f6384cc09ca3e05b3e5b8476"
      }
     },
     "de645b7f330b4dee8b50c6a50e1d88be": {
      "model_module": "@jupyter-widgets/base",
      "model_module_version": "1.2.0",
      "model_name": "LayoutModel",
      "state": {}
     },
     "ded1acddae33494a95f8536736bfaf1b": {
      "model_module": "@jupyter-widgets/controls",
      "model_module_version": "1.5.0",
      "model_name": "IntProgressModel",
      "state": {
       "bar_style": "success",
       "description": "100.00%",
       "layout": "IPY_MODEL_3cb1b807a30d4dd3901bb4ec2ff0bca8",
       "max": 12,
       "style": "IPY_MODEL_f50959c119994e8d8f71ad6acc914056",
       "value": 12
      }
     },
     "df79e8a71c88441f972bc661b30ddd8c": {
      "model_module": "@jupyter-widgets/controls",
      "model_module_version": "1.5.0",
      "model_name": "LabelModel",
      "state": {
       "layout": "IPY_MODEL_c025b96bd1a646c5958ecf69ce1c3c14",
       "style": "IPY_MODEL_5f4d85169eb2409499e9ada10d0b74e1",
       "value": "13 / 13"
      }
     },
     "e13e5d036f2247f898d6b12ce60ac20a": {
      "model_module": "@jupyter-widgets/controls",
      "model_module_version": "1.5.0",
      "model_name": "ProgressStyleModel",
      "state": {
       "description_width": ""
      }
     },
     "e1f4f8deeb6241c29c52cafbe8241c91": {
      "model_module": "@jupyter-widgets/controls",
      "model_module_version": "1.5.0",
      "model_name": "ProgressStyleModel",
      "state": {
       "description_width": ""
      }
     },
     "e21bbdd5745843639964935b2d77c6ce": {
      "model_module": "@jupyter-widgets/base",
      "model_module_version": "1.2.0",
      "model_name": "LayoutModel",
      "state": {}
     },
     "e4f853ca0a0a4e0dbc12aaa238e24212": {
      "model_module": "@jupyter-widgets/base",
      "model_module_version": "1.2.0",
      "model_name": "LayoutModel",
      "state": {}
     },
     "e52267ac40b64cbeb446fc1279b4ac68": {
      "model_module": "@jupyter-widgets/controls",
      "model_module_version": "1.5.0",
      "model_name": "ProgressStyleModel",
      "state": {
       "description_width": ""
      }
     },
     "e5a81503fd6f470daaa53d07da19e142": {
      "model_module": "@jupyter-widgets/controls",
      "model_module_version": "1.5.0",
      "model_name": "LabelModel",
      "state": {
       "layout": "IPY_MODEL_592f3ba9b5234d14af7099b1c9ca8327",
       "style": "IPY_MODEL_645f7cab7f7e4e41abc5f5ff481cfbab",
       "value": "13 / 13"
      }
     },
     "e6dd783347ca453f936139d0ef26c206": {
      "model_module": "@jupyter-widgets/controls",
      "model_module_version": "1.5.0",
      "model_name": "LabelModel",
      "state": {
       "layout": "IPY_MODEL_4c30b676949a471e95fc6277acedf448",
       "style": "IPY_MODEL_7eb9321651c04ae7ad7547416878f03e",
       "value": "13 / 13"
      }
     },
     "e6ea8f8297ec451a8a358f5599602efd": {
      "model_module": "@jupyter-widgets/controls",
      "model_module_version": "1.5.0",
      "model_name": "HBoxModel",
      "state": {
       "children": [
        "IPY_MODEL_44f55de690c44c539cb2a8b7b32afcd6",
        "IPY_MODEL_4f522ffe957f4fae8f974ca8d04d467a"
       ],
       "layout": "IPY_MODEL_9ec1f351c1b242a2bcceebda8827323e"
      }
     },
     "e6f99a59b83c4c4ab928f584ff2efa0b": {
      "model_module": "@jupyter-widgets/base",
      "model_module_version": "1.2.0",
      "model_name": "LayoutModel",
      "state": {}
     },
     "e89de5cbc36345c4b2d256f3a8b7c0a1": {
      "model_module": "@jupyter-widgets/controls",
      "model_module_version": "1.5.0",
      "model_name": "ProgressStyleModel",
      "state": {
       "description_width": ""
      }
     },
     "e8d8eee35e1b4d0eae59c25b9f309b2a": {
      "model_module": "@jupyter-widgets/base",
      "model_module_version": "1.2.0",
      "model_name": "LayoutModel",
      "state": {}
     },
     "e9b52dbc6cb94694a77f965c3e502277": {
      "model_module": "@jupyter-widgets/controls",
      "model_module_version": "1.5.0",
      "model_name": "HBoxModel",
      "state": {
       "children": [
        "IPY_MODEL_a90c7a723fa24505bf11d3bfdf5687ac",
        "IPY_MODEL_10531936214d4f86bdc2b60633c4c041"
       ],
       "layout": "IPY_MODEL_f384d2d3d93347e597514d46dc064965"
      }
     },
     "e9ecfc0f03be4029a56a53fc0212d99b": {
      "model_module": "@jupyter-widgets/controls",
      "model_module_version": "1.5.0",
      "model_name": "LabelModel",
      "state": {
       "layout": "IPY_MODEL_60a90fbeee0e494aab78d5000fba0f6e",
       "style": "IPY_MODEL_9ec4704777434777b1af3762c36b1063",
       "value": "12 / 12"
      }
     },
     "eb8288c93b804d0bbf7ef08094652351": {
      "model_module": "@jupyter-widgets/base",
      "model_module_version": "1.2.0",
      "model_name": "LayoutModel",
      "state": {}
     },
     "ebe086e0aa194d59a44fc1d0767627ff": {
      "model_module": "@jupyter-widgets/base",
      "model_module_version": "1.2.0",
      "model_name": "LayoutModel",
      "state": {}
     },
     "ec25e1cf271f492795fb351b16eb538a": {
      "model_module": "@jupyter-widgets/controls",
      "model_module_version": "1.5.0",
      "model_name": "HBoxModel",
      "state": {
       "children": [
        "IPY_MODEL_5d1428f540ac45418b2efea38288898d",
        "IPY_MODEL_4596b11237fe474a8ab6545bb36b69ac"
       ],
       "layout": "IPY_MODEL_b501c6c033ac44a59ae691af35bd6836"
      }
     },
     "ec6858c8d74d484390b3045b893f82d3": {
      "model_module": "@jupyter-widgets/base",
      "model_module_version": "1.2.0",
      "model_name": "LayoutModel",
      "state": {}
     },
     "ecceabc036e2479998ec085f9f8c2a9e": {
      "model_module": "@jupyter-widgets/controls",
      "model_module_version": "1.5.0",
      "model_name": "IntProgressModel",
      "state": {
       "bar_style": "success",
       "description": "100.00%",
       "layout": "IPY_MODEL_ff72ef822d1c4f73b6b1019ad3724069",
       "max": 13,
       "style": "IPY_MODEL_46207acebbe64d1f937bb99dd0e8bbf4",
       "value": 13
      }
     },
     "ecf6e53fb0b54acab6d97ad479c8a1b2": {
      "model_module": "@jupyter-widgets/base",
      "model_module_version": "1.2.0",
      "model_name": "LayoutModel",
      "state": {}
     },
     "eda10c8d46974b9ca5e3e7348c2aff2d": {
      "model_module": "@jupyter-widgets/controls",
      "model_module_version": "1.5.0",
      "model_name": "LabelModel",
      "state": {
       "layout": "IPY_MODEL_0ee857fabd5c40ffa167f18b82b8c126",
       "style": "IPY_MODEL_13bb13b27dd649d8a897edbe9226f4de",
       "value": "12 / 12"
      }
     },
     "edd03ac41a0d4e20a495c1c592956f1a": {
      "model_module": "@jupyter-widgets/controls",
      "model_module_version": "1.5.0",
      "model_name": "HBoxModel",
      "state": {
       "children": [
        "IPY_MODEL_1a01a8330d92413c86658afcd664d78e",
        "IPY_MODEL_36bb75a7b5634a4f8b03251df1ff9fe9"
       ],
       "layout": "IPY_MODEL_e21bbdd5745843639964935b2d77c6ce"
      }
     },
     "f0f14da8664742b096a3c88daf2b4fa2": {
      "model_module": "@jupyter-widgets/controls",
      "model_module_version": "1.5.0",
      "model_name": "DescriptionStyleModel",
      "state": {
       "description_width": ""
      }
     },
     "f117ebcb6713431992219b98d1ce7c5f": {
      "model_module": "@jupyter-widgets/base",
      "model_module_version": "1.2.0",
      "model_name": "LayoutModel",
      "state": {}
     },
     "f16ebdcc19974f05889011b122d3e93a": {
      "model_module": "@jupyter-widgets/controls",
      "model_module_version": "1.5.0",
      "model_name": "DescriptionStyleModel",
      "state": {
       "description_width": ""
      }
     },
     "f29fef48443c4a698b41181c5bd6e4f8": {
      "model_module": "@jupyter-widgets/controls",
      "model_module_version": "1.5.0",
      "model_name": "IntProgressModel",
      "state": {
       "bar_style": "success",
       "description": "100.00%",
       "layout": "IPY_MODEL_dcf70be27f0b42a7bfd1917adc0a05bd",
       "max": 13,
       "style": "IPY_MODEL_1d8b1e1fa65b4b87b917e29c72b75788",
       "value": 13
      }
     },
     "f2f63fbc24374eb5bc0a3181391bced5": {
      "model_module": "@jupyter-widgets/base",
      "model_module_version": "1.2.0",
      "model_name": "LayoutModel",
      "state": {}
     },
     "f384d2d3d93347e597514d46dc064965": {
      "model_module": "@jupyter-widgets/base",
      "model_module_version": "1.2.0",
      "model_name": "LayoutModel",
      "state": {}
     },
     "f3875a26e3604207a2329585b77ccb05": {
      "model_module": "@jupyter-widgets/controls",
      "model_module_version": "1.5.0",
      "model_name": "ProgressStyleModel",
      "state": {
       "description_width": ""
      }
     },
     "f3a70e9e2df34ac0b414934b8f274bce": {
      "model_module": "@jupyter-widgets/base",
      "model_module_version": "1.2.0",
      "model_name": "LayoutModel",
      "state": {}
     },
     "f3c4ab21cc5c45b89c1511a1d37b3a00": {
      "model_module": "@jupyter-widgets/base",
      "model_module_version": "1.2.0",
      "model_name": "LayoutModel",
      "state": {}
     },
     "f3da21d063bd4e4d828ceef5c8e16acf": {
      "model_module": "@jupyter-widgets/controls",
      "model_module_version": "1.5.0",
      "model_name": "HBoxModel",
      "state": {
       "children": [
        "IPY_MODEL_0cbd36b8c04447b8a5c7581d5321d9ee",
        "IPY_MODEL_a460ca8a53454ac6ad47dd5b90815e76"
       ],
       "layout": "IPY_MODEL_3457f4a65e454b94bf5bbd740b5cda62"
      }
     },
     "f50959c119994e8d8f71ad6acc914056": {
      "model_module": "@jupyter-widgets/controls",
      "model_module_version": "1.5.0",
      "model_name": "ProgressStyleModel",
      "state": {
       "description_width": ""
      }
     },
     "f62c5f6c328440f0b45600d5b22f5757": {
      "model_module": "@jupyter-widgets/controls",
      "model_module_version": "1.5.0",
      "model_name": "HBoxModel",
      "state": {
       "children": [
        "IPY_MODEL_68cea45db7404f9f9244ba6d68f6412b",
        "IPY_MODEL_3a6ef1bfd7ab45aaa0cc650c252b3092"
       ],
       "layout": "IPY_MODEL_57ca86b6b08e4140a71c2135ae6ff529"
      }
     },
     "f6d8377a7abc4eb897f5c6752aa74e2b": {
      "model_module": "@jupyter-widgets/base",
      "model_module_version": "1.2.0",
      "model_name": "LayoutModel",
      "state": {}
     },
     "f7d91d2339ae455cadb0d3790dcfd7a7": {
      "model_module": "@jupyter-widgets/controls",
      "model_module_version": "1.5.0",
      "model_name": "IntProgressModel",
      "state": {
       "bar_style": "success",
       "description": "100.00%",
       "layout": "IPY_MODEL_8902e39dcac948369c392f663c176286",
       "max": 12,
       "style": "IPY_MODEL_b16c6a6a7af847a58b9cf64c846b273f",
       "value": 12
      }
     },
     "f8bfe0aa0af84d5ebe5d9f385b554c33": {
      "model_module": "@jupyter-widgets/controls",
      "model_module_version": "1.5.0",
      "model_name": "HBoxModel",
      "state": {
       "children": [
        "IPY_MODEL_b0eedf142c33456398d95179e0560286",
        "IPY_MODEL_5097e934148041e8b179b3881d7784ac"
       ],
       "layout": "IPY_MODEL_f117ebcb6713431992219b98d1ce7c5f"
      }
     },
     "fa3346358be544b29a2d18c2e1f05a70": {
      "model_module": "@jupyter-widgets/controls",
      "model_module_version": "1.5.0",
      "model_name": "LabelModel",
      "state": {
       "layout": "IPY_MODEL_41dbfa4442e04e21b01a507fad90483f",
       "style": "IPY_MODEL_bbcc41a4cb164d3b9eac497284aca9c2",
       "value": "13 / 13"
      }
     },
     "fb1dcdbd7f0b4837810db37f78e5053d": {
      "model_module": "@jupyter-widgets/controls",
      "model_module_version": "1.5.0",
      "model_name": "IntProgressModel",
      "state": {
       "bar_style": "success",
       "description": "100.00%",
       "layout": "IPY_MODEL_0fcac15847724e369ebace7096b46892",
       "max": 13,
       "style": "IPY_MODEL_3206d09b739d4406b7ac51a2b9cd4934",
       "value": 13
      }
     },
     "fc87803b740a4848afe34eff90cb024b": {
      "model_module": "@jupyter-widgets/controls",
      "model_module_version": "1.5.0",
      "model_name": "LabelModel",
      "state": {
       "layout": "IPY_MODEL_1a741322a6524cc2ace55e59f5a5caf4",
       "style": "IPY_MODEL_634ce9d77fb044149678505b54f38f95",
       "value": "12 / 12"
      }
     },
     "fd31919e9c2b4f61b80dc9a9278c1838": {
      "model_module": "@jupyter-widgets/controls",
      "model_module_version": "1.5.0",
      "model_name": "LabelModel",
      "state": {
       "layout": "IPY_MODEL_524d480988ab4ae2ac7098b5ab7ae046",
       "style": "IPY_MODEL_af92b1555d154c1ab7dc237a74cf4a57",
       "value": "13 / 13"
      }
     },
     "fd4d3e5b346640318f3ade03b16c2e3c": {
      "model_module": "@jupyter-widgets/controls",
      "model_module_version": "1.5.0",
      "model_name": "HBoxModel",
      "state": {
       "children": [
        "IPY_MODEL_c6d3b0c91e97457f91e66cf3497863d0",
        "IPY_MODEL_8630355fc7b1423983a66f298cc03e11"
       ],
       "layout": "IPY_MODEL_f2f63fbc24374eb5bc0a3181391bced5"
      }
     },
     "fd7ece19a7724200b3f4e5dfdead43d9": {
      "model_module": "@jupyter-widgets/controls",
      "model_module_version": "1.5.0",
      "model_name": "IntProgressModel",
      "state": {
       "bar_style": "success",
       "description": "100.00%",
       "layout": "IPY_MODEL_b4615c2f37014de480b9f3c91f6782e3",
       "max": 12,
       "style": "IPY_MODEL_b2cc67c3fe5e4d20a98ad293316d0907",
       "value": 12
      }
     },
     "fea312e711134e0d8330a7396cdee925": {
      "model_module": "@jupyter-widgets/controls",
      "model_module_version": "1.5.0",
      "model_name": "DescriptionStyleModel",
      "state": {
       "description_width": ""
      }
     },
     "fed35244264f46e2879fd7ca07aa1028": {
      "model_module": "@jupyter-widgets/controls",
      "model_module_version": "1.5.0",
      "model_name": "LabelModel",
      "state": {
       "layout": "IPY_MODEL_1dc63bc46af040968b7acbb6e62c34dd",
       "style": "IPY_MODEL_03af8812006d4a17ba4fe675b75042f2",
       "value": "12 / 12"
      }
     },
     "ff72ef822d1c4f73b6b1019ad3724069": {
      "model_module": "@jupyter-widgets/base",
      "model_module_version": "1.2.0",
      "model_name": "LayoutModel",
      "state": {}
     }
    },
    "version_major": 2,
    "version_minor": 0
   }
  }
 },
 "nbformat": 4,
 "nbformat_minor": 5
}
